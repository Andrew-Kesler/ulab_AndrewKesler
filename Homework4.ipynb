{
 "cells": [
  {
   "cell_type": "code",
   "execution_count": 2,
   "id": "5c4f1327-0ee3-4743-bbb2-b66bae64f005",
   "metadata": {},
   "outputs": [
    {
     "name": "stdout",
     "output_type": "stream",
     "text": [
      "Test Case 1: (13, 7, 30, 3.3333333333333335, 3, 1, 1000)\n",
      "Test Case 2: (24, 16, 80, 5.0, 5, 0, 160000)\n",
      "Test Case 3: (7, 3, 10, 2.5, 2, 1, 25)\n"
     ]
    }
   ],
   "source": [
    "def perform_arithmetic_operations(a, b):\n",
    "    \"\"\"\n",
    "    This function takes two numbers (a and b) as input and returns a tuple with:\n",
    "    - The sum of a and b\n",
    "    - The difference when b is subtracted from a\n",
    "    - The product of a and b\n",
    "    - The division of a by b (normal division)\n",
    "    - The floor division of a by b\n",
    "    - The remainder when a is divided by b\n",
    "    - a raised to the power of b\n",
    "    \"\"\"\n",
    "    return (\n",
    "        a + b,               # Sum\n",
    "        a - b,               # Difference\n",
    "        a * b,               # Product\n",
    "        a / b,               # Division\n",
    "        a // b,              # Floor Division\n",
    "        a % b,               # Remainder\n",
    "        a ** b               # Power\n",
    "    )\n",
    "\n",
    "# Test case 1\n",
    "num_1 = 10\n",
    "num_2 = 3\n",
    "operations = perform_arithmetic_operations(num_1, num_2)\n",
    "print(\"Test Case 1:\", operations)\n",
    "\n",
    "# Test case 2\n",
    "num_1 = 20\n",
    "num_2 = 4\n",
    "operations = perform_arithmetic_operations(num_1, num_2)\n",
    "print(\"Test Case 2:\", operations)\n",
    "\n",
    "# Test case 3\n",
    "num_1 = 5\n",
    "num_2 = 2\n",
    "operations = perform_arithmetic_operations(num_1, num_2)\n",
    "print(\"Test Case 3:\", operations)"
   ]
  },
  {
   "cell_type": "code",
   "execution_count": 4,
   "id": "99f77525-ff7a-4ab4-969b-6153c7dd4e83",
   "metadata": {},
   "outputs": [],
   "source": [
    "# My thinking process focused on clarity, reusability, and readability. \n",
    "# The function `perform_arithmetic_operations` is well-named, describing exactly what it does. \n",
    "# It accepts two parameters, performs all required arithmetic operations, and returns them as a tuple in a specific order. \n",
    "# The function is modular, allowing it to be reused with different inputs without rewriting any logic. \n",
    "# The use of comments inside the function ensures that each operation is clearly documented, making the code easy to read and maintain. \n",
    "# By including multiple test cases, the function demonstrates versatility and ensures correctness across different scenarios."
   ]
  },
  {
   "cell_type": "code",
   "execution_count": 6,
   "id": "aaa34447-a31d-445c-9ec4-60edc9c2559b",
   "metadata": {},
   "outputs": [
    {
     "name": "stdout",
     "output_type": "stream",
     "text": [
      "Test Case 1: 45\n",
      "Test Case 2: 30\n",
      "Test Case 3: 15\n",
      "Test Case 4: 0\n"
     ]
    }
   ],
   "source": [
    "def add_five_and_multiply(num):\n",
    "    \"\"\"\n",
    "    This function takes a number as input, increments it by 5 using an assignment operator, \n",
    "    and then multiplies the result by 3. It returns the final value.\n",
    "    \"\"\"\n",
    "    num += 5  # Increment the number by 5\n",
    "    num *= 3  # Multiply the incremented number by 3\n",
    "    return num\n",
    "\n",
    "# Test case 1\n",
    "x = 10\n",
    "print(\"Test Case 1:\", add_five_and_multiply(x))  # Output: 45\n",
    "\n",
    "# Test case 2\n",
    "x = 5\n",
    "print(\"Test Case 2:\", add_five_and_multiply(x))  # Output: 30\n",
    "\n",
    "# Test case 3\n",
    "x = 0\n",
    "print(\"Test Case 3:\", add_five_and_multiply(x))  # Output: 15\n",
    "\n",
    "# Test case 4\n",
    "x = -5\n",
    "print(\"Test Case 4:\", add_five_and_multiply(x))  # Output: 0"
   ]
  },
  {
   "cell_type": "code",
   "execution_count": 8,
   "id": "1c10f94e-2c23-40e0-8271-a0e65b1dc1c4",
   "metadata": {},
   "outputs": [],
   "source": [
    "# My thinking process centered on simplifying the operations using assignment operators to make the code more concise and readable. \n",
    "# Assignment operators like `+=` and `*=` are used to update the value of a variable directly, which reduces redundancy and makes the code cleaner. \n",
    "# For this function, `+=` was used to increment the input by 5, and `*=` was used to multiply the result by 3, combining the calculation and assignment into one step each. \n",
    "# The purpose of assignment operators is to streamline operations by avoiding the need to repeatedly reference the variable, improving both efficiency and clarity."
   ]
  },
  {
   "cell_type": "code",
   "execution_count": 10,
   "id": "d9c0cbef-c2bc-42a5-91df-00ec181a6d29",
   "metadata": {},
   "outputs": [
    {
     "name": "stdout",
     "output_type": "stream",
     "text": [
      "Test Case 1: True\n",
      "Test Case 2: False\n",
      "Test Case 3: True\n",
      "Test Case 4: True\n",
      "Test Case 5: False\n"
     ]
    }
   ],
   "source": [
    "def check_in_range(x, low, high):\n",
    "    \"\"\"\n",
    "    This function takes three arguments: x, low, and high.\n",
    "    It checks if x is between low and high (inclusive) using comparison operators.\n",
    "    If x is in the range, it returns True; otherwise, it returns False.\n",
    "    \"\"\"\n",
    "    return low <= x <= high  # Check if x is between low and high\n",
    "\n",
    "# Test case 1\n",
    "print(\"Test Case 1:\", check_in_range(5, 1, 10))  # Output: True\n",
    "\n",
    "# Test case 2\n",
    "print(\"Test Case 2:\", check_in_range(15, 1, 10))  # Output: False\n",
    "\n",
    "# Test case 3\n",
    "print(\"Test Case 3:\", check_in_range(1, 1, 10))  # Output: True\n",
    "\n",
    "# Test case 4\n",
    "print(\"Test Case 4:\", check_in_range(10, 1, 10))  # Output: True\n",
    "\n",
    "# Test case 5\n",
    "print(\"Test Case 5:\", check_in_range(0, 1, 10))  # Output: False"
   ]
  },
  {
   "cell_type": "code",
   "execution_count": 12,
   "id": "944e5d40-8baa-4808-b871-e78a0ea45006",
   "metadata": {},
   "outputs": [],
   "source": [
    "# My thinking process focused on simplicity and clarity by using a single line of code with comparison operators to evaluate the range condition. \n",
    "# The function name `check_in_range` clearly conveys its purpose, and the arguments `x`, `low`, and `high` are descriptive, making the function easy to understand and reuse. \n",
    "# By using the `low <= x <= high` comparison, the logic is concise and avoids unnecessary steps, which enhances readability. \n",
    "# The function demonstrates good practices by being modular, handling edge cases (e.g., when x equals low or high), and ensuring correctness through multiple test cases."
   ]
  },
  {
   "cell_type": "code",
   "execution_count": 16,
   "id": "e858938f-d388-46b0-aa41-40bc4555e1ea",
   "metadata": {},
   "outputs": [
    {
     "name": "stdout",
     "output_type": "stream",
     "text": [
      "Test Case 1: Here is your iced latte!\n",
      "Test Case 2: Learning Python is so fun!\n",
      "Test Case 3: This is a great idea!\n"
     ]
    }
   ],
   "source": [
    "def create_sentence(a, b, c, d, e):\n",
    "    \"\"\"\n",
    "    This function takes in at least five words as arguments and combines them \n",
    "    into a properly formatted sentence with spaces and punctuation.\n",
    "    \"\"\"\n",
    "    # Combine the words into a sentence with spaces and add an exclamation mark at the end\n",
    "    return f\"{a} {b} {c} {d} {e}!\"\n",
    "\n",
    "# Test case 1\n",
    "a = \"Here\"\n",
    "b = \"is\"\n",
    "c = \"your\"\n",
    "d = \"iced\"\n",
    "e = \"latte\"\n",
    "my_fav_sentence = create_sentence(a, b, c, d, e)\n",
    "print(\"Test Case 1:\", my_fav_sentence)  # Output: 'Here is your iced latte!'\n",
    "\n",
    "# Test case 2\n",
    "a = \"Learning\"\n",
    "b = \"Python\"\n",
    "c = \"is\"\n",
    "d = \"so\"\n",
    "e = \"fun\"\n",
    "another_sentence = create_sentence(a, b, c, d, e)\n",
    "print(\"Test Case 2:\", another_sentence)  # Output: 'Learning Python is so fun!'\n",
    "\n",
    "# Test case 3\n",
    "a = \"This\"\n",
    "b = \"is\"\n",
    "c = \"a\"\n",
    "d = \"great\"\n",
    "e = \"idea\"\n",
    "final_sentence = create_sentence(a, b, c, d, e)\n",
    "print(\"Test Case 3:\", final_sentence)  # Output: 'This is a great idea!'"
   ]
  },
  {
   "cell_type": "code",
   "execution_count": 18,
   "id": "cc570edb-edb4-45bb-b7c4-d2657350830d",
   "metadata": {},
   "outputs": [
    {
     "name": "stdout",
     "output_type": "stream",
     "text": [
      "Celsius to Fahrenheit:\n",
      "0°C = 32.0 °F\n",
      "25°C = 77.0 °F\n",
      "-10°C = 14.0 °F\n",
      "\n",
      "Celsius to Kelvin:\n",
      "0°C = 273.15 K\n",
      "25°C = 298.15 K\n",
      "-10°C = 263.15 K\n"
     ]
    }
   ],
   "source": [
    "def celsius_to_fahrenheit(celsius):\n",
    "    \"\"\"\n",
    "    This function converts a temperature from Celsius to Fahrenheit.\n",
    "    Formula: Fahrenheit = (Celsius * 9/5) + 32\n",
    "    \"\"\"\n",
    "    return (celsius * 9/5) + 32\n",
    "\n",
    "def celsius_to_kelvin(celsius):\n",
    "    \"\"\"\n",
    "    This function converts a temperature from Celsius to Kelvin.\n",
    "    Formula: Kelvin = Celsius + 273.15\n",
    "    \"\"\"\n",
    "    return celsius + 273.15\n",
    "\n",
    "# Test cases for celsius_to_fahrenheit\n",
    "print(\"Celsius to Fahrenheit:\")\n",
    "print(\"0°C =\", celsius_to_fahrenheit(0), \"°F\")        # Output: 32.0 °F\n",
    "print(\"25°C =\", celsius_to_fahrenheit(25), \"°F\")      # Output: 77.0 °F\n",
    "print(\"-10°C =\", celsius_to_fahrenheit(-10), \"°F\")    # Output: 14.0 °F\n",
    "\n",
    "# Test cases for celsius_to_kelvin\n",
    "print(\"\\nCelsius to Kelvin:\")\n",
    "print(\"0°C =\", celsius_to_kelvin(0), \"K\")             # Output: 273.15 K\n",
    "print(\"25°C =\", celsius_to_kelvin(25), \"K\")           # Output: 298.15 K\n",
    "print(\"-10°C =\", celsius_to_kelvin(-10), \"K\")         # Output: 263.15 K"
   ]
  },
  {
   "cell_type": "code",
   "execution_count": 20,
   "id": "8541aa73-47ee-4c6f-89bc-dc94a69053c3",
   "metadata": {},
   "outputs": [
    {
     "name": "stdout",
     "output_type": "stream",
     "text": [
      "Converting 25°C:\n",
      "Fahrenheit: 77.0 °F\n",
      "Kelvin: 298.15 K\n"
     ]
    }
   ],
   "source": [
    "def convert_temperature(celsius):\n",
    "    \"\"\"\n",
    "    This function takes a temperature in Celsius as input and:\n",
    "    - Calls celsius_to_fahrenheit() to convert to Fahrenheit\n",
    "    - Calls celsius_to_kelvin() to convert to Kelvin\n",
    "    - Returns both values in a tuple\n",
    "    \"\"\"\n",
    "    fahrenheit = celsius_to_fahrenheit(celsius)  # Convert to Fahrenheit\n",
    "    kelvin = celsius_to_kelvin(celsius)          # Convert to Kelvin\n",
    "    return fahrenheit, kelvin\n",
    "\n",
    "# Print the result of calling the function\n",
    "temperature_in_celsius = 25  # Example input\n",
    "result = convert_temperature(temperature_in_celsius)\n",
    "print(f\"Converting {temperature_in_celsius}°C:\")\n",
    "print(\"Fahrenheit:\", result[0], \"°F\")\n",
    "print(\"Kelvin:\", result[1], \"K\")"
   ]
  },
  {
   "cell_type": "code",
   "execution_count": null,
   "id": "43d6a12c-4003-47a4-bcee-56f3603b122a",
   "metadata": {},
   "outputs": [],
   "source": []
  }
 ],
 "metadata": {
  "kernelspec": {
   "display_name": "Python 3 (ipykernel)",
   "language": "python",
   "name": "python3"
  },
  "language_info": {
   "codemirror_mode": {
    "name": "ipython",
    "version": 3
   },
   "file_extension": ".py",
   "mimetype": "text/x-python",
   "name": "python",
   "nbconvert_exporter": "python",
   "pygments_lexer": "ipython3",
   "version": "3.11.7"
  }
 },
 "nbformat": 4,
 "nbformat_minor": 5
}
