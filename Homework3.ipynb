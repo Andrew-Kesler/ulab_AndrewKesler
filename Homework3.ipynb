{
 "cells": [
  {
   "cell_type": "code",
   "execution_count": 1,
   "id": "918dddc8-a13e-4b96-b2ec-727fb1cba3b1",
   "metadata": {},
   "outputs": [
    {
     "name": "stdout",
     "output_type": "stream",
     "text": [
      "Python is awesome!\n"
     ]
    }
   ],
   "source": [
    "# reminder: if a \"#\" is in front of a line of code, your computer will NOT read it\n",
    "# have python print the following message by running this cell:\n",
    "print(\"Python is awesome!\")"
   ]
  },
  {
   "cell_type": "code",
   "execution_count": 3,
   "id": "91d25e45-0288-47ef-9d79-5a291b5ce93c",
   "metadata": {},
   "outputs": [
    {
     "name": "stdout",
     "output_type": "stream",
     "text": [
      "The age is: 20\n"
     ]
    }
   ],
   "source": [
    "age = 20 # this is a variable (specifically an integer)\n",
    "print(\"The age is:\", age)"
   ]
  },
  {
   "cell_type": "code",
   "execution_count": 5,
   "id": "1d9325d3-85c8-449c-b206-784d409b164e",
   "metadata": {},
   "outputs": [
    {
     "name": "stdout",
     "output_type": "stream",
     "text": [
      "The current year is: 2024\n",
      "The type of the year variable is: <class 'int'>\n"
     ]
    }
   ],
   "source": [
    "# Create a variable called year and assign it the current year\n",
    "year = 2024\n",
    "\n",
    "# Print the current year\n",
    "print(\"The current year is:\", year)\n",
    "\n",
    "# Print the type of the year variable\n",
    "print(\"The type of the year variable is:\", type(year))"
   ]
  },
  {
   "cell_type": "code",
   "execution_count": 7,
   "id": "1f45a883-64b2-461d-af00-18f3de59732d",
   "metadata": {},
   "outputs": [
    {
     "name": "stdout",
     "output_type": "stream",
     "text": [
      "The temperature is: 98.6\n",
      "The type of the temperature variable is: <class 'float'>\n"
     ]
    }
   ],
   "source": [
    "# Create a variable called temperature and assign it the value 98.6\n",
    "temperature = 98.6\n",
    "\n",
    "# Print the value of the temperature variable\n",
    "print(\"The temperature is:\", temperature)\n",
    "\n",
    "# Print the type of the temperature variable\n",
    "print(\"The type of the temperature variable is:\", type(temperature))"
   ]
  },
  {
   "cell_type": "code",
   "execution_count": 9,
   "id": "7565e7c2-6d66-4ad6-a38d-ebe456e8678d",
   "metadata": {},
   "outputs": [
    {
     "name": "stdout",
     "output_type": "stream",
     "text": [
      "My name is: Andrew Kesler\n",
      "The type of the name variable is: <class 'str'>\n"
     ]
    }
   ],
   "source": [
    "# Create a variable called name and assign it your name\n",
    "name = \"Andrew Kesler\"\n",
    "\n",
    "# Print the value of the name variable\n",
    "print(\"My name is:\", name)\n",
    "\n",
    "# Print the type of the name variable\n",
    "print(\"The type of the name variable is:\", type(name))"
   ]
  },
  {
   "cell_type": "code",
   "execution_count": 11,
   "id": "c98d7de0-4a25-4f0b-812a-7a2a2e2a3006",
   "metadata": {},
   "outputs": [
    {
     "name": "stdout",
     "output_type": "stream",
     "text": [
      "Is it the weekend? False\n",
      "The type of the weekend variable is: <class 'bool'>\n"
     ]
    }
   ],
   "source": [
    "# Create a variable called weekend and set it to True or False\n",
    "# Change the value based on whether it's a weekend (True) or a weekday (False)\n",
    "weekend = False  # For example, if it's a weekday, set it to False\n",
    "\n",
    "# Print the value of the weekend variable\n",
    "print(\"Is it the weekend?\", weekend)\n",
    "\n",
    "# Print the type of the weekend variable\n",
    "print(\"The type of the weekend variable is:\", type(weekend))"
   ]
  },
  {
   "cell_type": "code",
   "execution_count": 13,
   "id": "7ddb4985-6a07-421d-a567-75bfec54bab4",
   "metadata": {},
   "outputs": [
    {
     "name": "stdout",
     "output_type": "stream",
     "text": [
      "My favorite colors are: ['red', 'blue', 'black']\n",
      "The type of the favorite_colors variable is: <class 'list'>\n"
     ]
    }
   ],
   "source": [
    "# Create a variable called favorite_colors and add your three favorite colors\n",
    "favorite_colors = [\"red\", \"blue\", \"black\"]\n",
    "\n",
    "# Print the value of the favorite_colors variable\n",
    "print(\"My favorite colors are:\", favorite_colors)\n",
    "\n",
    "# Print the type of the favorite_colors variable\n",
    "print(\"The type of the favorite_colors variable is:\", type(favorite_colors))"
   ]
  },
  {
   "cell_type": "code",
   "execution_count": 15,
   "id": "9eb5f1d7-d21e-47e1-ae20-c77882a252ad",
   "metadata": {},
   "outputs": [
    {
     "name": "stdout",
     "output_type": "stream",
     "text": [
      "12\n"
     ]
    }
   ],
   "source": [
    "answer = 2 + 2 * 5\n",
    "print(answer)"
   ]
  },
  {
   "cell_type": "code",
   "execution_count": 17,
   "id": "174435aa-7527-4040-9db2-94bad885e882",
   "metadata": {},
   "outputs": [
    {
     "name": "stdout",
     "output_type": "stream",
     "text": [
      "10\n"
     ]
    }
   ],
   "source": [
    "num1 = 4\n",
    "num2 = 6\n",
    "print(num1 + num2)"
   ]
  },
  {
   "cell_type": "code",
   "execution_count": 19,
   "id": "c02e7f6e-60fb-49ac-82b8-1546bce27b20",
   "metadata": {},
   "outputs": [
    {
     "name": "stdout",
     "output_type": "stream",
     "text": [
      "The area of the circle is: 78.53975\n"
     ]
    }
   ],
   "source": [
    "# Create a variable called radius and set it to 5\n",
    "radius = 5\n",
    "\n",
    "# Use Python to calculate the area of the circle\n",
    "# Area = π * (r^2)\n",
    "pi = 3.14159  # Approximate value of π\n",
    "area = pi * (radius ** 2)\n",
    "\n",
    "# Print the area of the circle\n",
    "print(\"The area of the circle is:\", area)"
   ]
  },
  {
   "cell_type": "code",
   "execution_count": null,
   "id": "0f5671da-def7-44f4-bab1-9b3aeb536860",
   "metadata": {},
   "outputs": [],
   "source": []
  }
 ],
 "metadata": {
  "kernelspec": {
   "display_name": "Python 3 (ipykernel)",
   "language": "python",
   "name": "python3"
  },
  "language_info": {
   "codemirror_mode": {
    "name": "ipython",
    "version": 3
   },
   "file_extension": ".py",
   "mimetype": "text/x-python",
   "name": "python",
   "nbconvert_exporter": "python",
   "pygments_lexer": "ipython3",
   "version": "3.11.7"
  }
 },
 "nbformat": 4,
 "nbformat_minor": 5
}
