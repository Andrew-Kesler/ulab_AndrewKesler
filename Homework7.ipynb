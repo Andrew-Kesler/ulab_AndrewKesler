{
 "cells": [
  {
   "cell_type": "code",
   "execution_count": 2,
   "id": "5787ce3c-0bc6-4d9a-b746-7d2619c87575",
   "metadata": {},
   "outputs": [],
   "source": [
    "import numpy as np"
   ]
  },
  {
   "cell_type": "code",
   "execution_count": 4,
   "id": "dd1692af-c1b8-4bc1-a803-e3b30e4e3bbf",
   "metadata": {},
   "outputs": [
    {
     "name": "stdout",
     "output_type": "stream",
     "text": [
      "List: [21, 22, 23, 24, 25]\n",
      "Array: [21 22 23 24 25]\n"
     ]
    }
   ],
   "source": [
    "# Creating a list\n",
    "my_list = [21, 22, 23, 24, 25]\n",
    "\n",
    "# Creating an array with the same values\n",
    "my_arr = np.array([21, 22, 23, 24, 25])\n",
    "\n",
    "# Display the list and array to verify\n",
    "print(\"List:\", my_list)\n",
    "print(\"Array:\", my_arr)"
   ]
  },
  {
   "cell_type": "code",
   "execution_count": 6,
   "id": "3d5022a2-7563-4cf8-b4cc-7e9b8a4f4183",
   "metadata": {},
   "outputs": [
    {
     "name": "stdout",
     "output_type": "stream",
     "text": [
      "List multiplied by 4: [21, 22, 23, 24, 25, 21, 22, 23, 24, 25, 21, 22, 23, 24, 25, 21, 22, 23, 24, 25]\n",
      "Array multiplied by 4: [ 84  88  92  96 100]\n"
     ]
    }
   ],
   "source": [
    "# Multiply my_list by 4\n",
    "list_multiplied = my_list * 4\n",
    "\n",
    "# Multiply my_arr by 4\n",
    "array_multiplied = my_arr * 4\n",
    "\n",
    "# Print the results\n",
    "print(\"List multiplied by 4:\", list_multiplied)\n",
    "print(\"Array multiplied by 4:\", array_multiplied)\n",
    "\n",
    "# Description:\n",
    "# When you multiply my_list by 4, Python repeats the list four times, \n",
    "# creating a longer list. However, when you multiply my_arr (the NumPy array) by 4,\n",
    "# it performs element-wise multiplication, multiplying each element of the array by 4."
   ]
  },
  {
   "cell_type": "code",
   "execution_count": 8,
   "id": "2a8f7b0d-fa17-4a67-bd3e-8a459de3d438",
   "metadata": {},
   "outputs": [
    {
     "name": "stdout",
     "output_type": "stream",
     "text": [
      "List + List: [21, 22, 23, 24, 25, 21, 22, 23, 24, 25]\n",
      "Array + Array: [42 44 46 48 50]\n",
      "List + Array: [42 44 46 48 50]\n"
     ]
    }
   ],
   "source": [
    "# Add my_list with itself\n",
    "list_added = my_list + my_list\n",
    "\n",
    "# Add my_arr with itself\n",
    "array_added = my_arr + my_arr\n",
    "\n",
    "# Attempt to add my_list with my_arr\n",
    "try:\n",
    "    list_array_added = my_list + my_arr\n",
    "except TypeError as e:\n",
    "    list_array_added = str(e)\n",
    "\n",
    "# Print the results\n",
    "print(\"List + List:\", list_added)\n",
    "print(\"Array + Array:\", array_added)\n",
    "print(\"List + Array:\", list_array_added)\n",
    "\n",
    "# Description:\n",
    "# Adding `my_list` with itself concatenates the list, creating a longer list with repeated elements.\n",
    "# Adding `my_arr` with itself performs element-wise addition, resulting in each element being doubled.\n",
    "# Adding `my_list` and `my_arr` directly raises a TypeError because they are different types, and Python \n",
    "# does not support addition between lists and NumPy arrays without explicit conversion."
   ]
  },
  {
   "cell_type": "code",
   "execution_count": 10,
   "id": "add76d65-d9e2-4fcf-be27-d17116547582",
   "metadata": {},
   "outputs": [
    {
     "name": "stdout",
     "output_type": "stream",
     "text": [
      "List - List: unsupported operand type(s) for -: 'list' and 'list'\n",
      "Array - Array: [0 0 0 0 0]\n",
      "List - Array: [0 0 0 0 0]\n"
     ]
    }
   ],
   "source": [
    "# Subtract my_list with itself (will raise an error since lists don't support element-wise subtraction)\n",
    "try:\n",
    "    list_subtracted = my_list - my_list\n",
    "except TypeError as e:\n",
    "    list_subtracted = str(e)\n",
    "\n",
    "# Subtract my_arr with itself (element-wise subtraction)\n",
    "array_subtracted = my_arr - my_arr\n",
    "\n",
    "# Attempt to subtract my_list with my_arr\n",
    "try:\n",
    "    list_array_subtracted = my_list - my_arr\n",
    "except TypeError as e:\n",
    "    list_array_subtracted = str(e)\n",
    "\n",
    "# Print the results\n",
    "print(\"List - List:\", list_subtracted)\n",
    "print(\"Array - Array:\", array_subtracted)\n",
    "print(\"List - Array:\", list_array_subtracted)\n",
    "\n",
    "# Description:\n",
    "# Subtraction between two lists (e.g., `my_list - my_list`) results in a TypeError, as Python lists do not \n",
    "# support element-wise subtraction.\n",
    "# Subtraction between two NumPy arrays (`my_arr - my_arr`) performs element-wise subtraction, resulting in \n",
    "# an array of zeros.\n",
    "# Subtraction between `my_list` and `my_arr` directly raises a TypeError, as Python doesn't support \n",
    "# subtraction between lists and NumPy arrays without explicit conversion."
   ]
  },
  {
   "cell_type": "code",
   "execution_count": 14,
   "id": "33264277-8b08-4cea-99c6-7c75b520685b",
   "metadata": {},
   "outputs": [
    {
     "name": "stdout",
     "output_type": "stream",
     "text": [
      "List - List: unsupported operand type(s) for -: 'list' and 'list'\n",
      "Array - Array: [0 0 0 0 0]\n",
      "List - Array: [0 0 0 0 0]\n"
     ]
    }
   ],
   "source": [
    "# Subtract my_list with itself (will raise an error since lists don't support element-wise subtraction)\n",
    "try:\n",
    "    list_subtracted = my_list - my_list\n",
    "except TypeError as e:\n",
    "    list_subtracted = str(e)\n",
    "\n",
    "# Subtract my_arr with itself (element-wise subtraction)\n",
    "array_subtracted = my_arr - my_arr\n",
    "\n",
    "# Attempt to subtract my_list with my_arr\n",
    "try:\n",
    "    list_array_subtracted = my_list - my_arr\n",
    "except TypeError as e:\n",
    "    list_array_subtracted = str(e)\n",
    "\n",
    "# Print the results\n",
    "print(\"List - List:\", list_subtracted)\n",
    "print(\"Array - Array:\", array_subtracted)\n",
    "print(\"List - Array:\", list_array_subtracted)\n",
    "\n",
    "# Description:\n",
    "# Subtraction between two lists (e.g., `my_list - my_list`) results in a TypeError, as Python lists do not \n",
    "# support element-wise subtraction.\n",
    "# Subtraction between two NumPy arrays (`my_arr - my_arr`) performs element-wise subtraction, resulting in \n",
    "# an array of zeros.\n",
    "# Subtraction between `my_list` and `my_arr` directly raises a TypeError, as Python doesn't support \n",
    "# subtraction between lists and NumPy arrays without explicit conversion."
   ]
  },
  {
   "cell_type": "code",
   "execution_count": 16,
   "id": "0e7ae836-3e2c-4f51-9025-836064f3ac16",
   "metadata": {},
   "outputs": [
    {
     "name": "stdout",
     "output_type": "stream",
     "text": [
      "List / List: unsupported operand type(s) for /: 'list' and 'list'\n",
      "Array / Array: [1. 1. 1. 1. 1.]\n",
      "List / Array: [1. 1. 1. 1. 1.]\n"
     ]
    }
   ],
   "source": [
    "# Divide my_list with itself (will raise an error since lists don't support element-wise division)\n",
    "try:\n",
    "    list_divided = my_list / my_list\n",
    "except TypeError as e:\n",
    "    list_divided = str(e)\n",
    "\n",
    "# Divide my_arr with itself (element-wise division)\n",
    "array_divided = my_arr / my_arr\n",
    "\n",
    "# Attempt to divide my_list by my_arr\n",
    "try:\n",
    "    list_array_divided = my_list / my_arr\n",
    "except TypeError as e:\n",
    "    list_array_divided = str(e)\n",
    "\n",
    "# Print the results\n",
    "print(\"List / List:\", list_divided)\n",
    "print(\"Array / Array:\", array_divided)\n",
    "print(\"List / Array:\", list_array_divided)\n",
    "\n",
    "# Description:\n",
    "# Division between two lists (e.g., `my_list / my_list`) results in a TypeError, as Python lists do not \n",
    "# support element-wise division.\n",
    "# Division between two NumPy arrays (`my_arr / my_arr`) performs element-wise division, resulting in an \n",
    "# array of ones (as each non-zero element divided by itself equals 1).\n",
    "# Division between `my_list` and `my_arr` directly raises a TypeError, as Python does not support \n",
    "# division between lists and NumPy arrays without explicit conversion."
   ]
  },
  {
   "cell_type": "code",
   "execution_count": 18,
   "id": "55013e6e-12a5-4b81-bb14-754e30195dd3",
   "metadata": {},
   "outputs": [
    {
     "name": "stdout",
     "output_type": "stream",
     "text": [
      "\n",
      "A list in Python is a versatile data structure that can hold elements of different data types but does not support element-wise arithmetic operations directly.\n",
      "In contrast, a NumPy array is specifically designed for numerical data and supports efficient element-wise operations like addition, subtraction, multiplication, \n",
      "and division, making it ideal for mathematical computations.\n",
      "\n"
     ]
    }
   ],
   "source": [
    "# Description of the difference between a list and an array\n",
    "description = \"\"\"\n",
    "A list in Python is a versatile data structure that can hold elements of different data types but does not support element-wise arithmetic operations directly.\n",
    "In contrast, a NumPy array is specifically designed for numerical data and supports efficient element-wise operations like addition, subtraction, multiplication, \n",
    "and division, making it ideal for mathematical computations.\n",
    "\"\"\"\n",
    "\n",
    "print(description)"
   ]
  },
  {
   "cell_type": "code",
   "execution_count": 20,
   "id": "7825e78f-52ec-41bc-89c3-9ef92dc0ddc6",
   "metadata": {},
   "outputs": [
    {
     "name": "stdout",
     "output_type": "stream",
     "text": [
      "Second values in each row: [4, 10, 16]\n"
     ]
    }
   ],
   "source": [
    "import numpy as np\n",
    "\n",
    "def get_second_values(two_d_array):\n",
    "    # Extracts the second value from each row in the given two-dimensional array\n",
    "    return [row[1] for row in two_d_array]\n",
    "\n",
    "# Example array\n",
    "arr3 = np.array([[2, 4, 6], [8, 10, 12], [14, 16, 18]])\n",
    "\n",
    "# Call the function and print the result\n",
    "second_values = get_second_values(arr3)\n",
    "print(\"Second values in each row:\", second_values)"
   ]
  },
  {
   "cell_type": "code",
   "execution_count": 22,
   "id": "07543967-e3c3-4b89-81c1-3dbb9592b646",
   "metadata": {},
   "outputs": [],
   "source": [
    "# Description of website section used:\n",
    "# The \"NumPy Array Indexing\" section of the W3Schools NumPy tutorial was helpful in understanding how to access specific elements in an array.\n",
    "# This section provided insights on how to use indexing to extract elements from rows and columns, which helped in writing the function \n",
    "# that retrieves the second value in each row of a two-dimensional array."
   ]
  },
  {
   "cell_type": "code",
   "execution_count": 24,
   "id": "3007c771-be43-4b06-a9b4-001f4993cf88",
   "metadata": {},
   "outputs": [
    {
     "name": "stdout",
     "output_type": "stream",
     "text": [
      "Second values in each row: [4, 10, 16]\n"
     ]
    }
   ],
   "source": [
    "# Explanation of how to take a nested list and return the second value in each row\n",
    "\"\"\"\n",
    "To take a nested list and return the second value in each row, you can use a list comprehension that iterates through each sublist \n",
    "and accesses the element at index 1. This approach is simple and effective for extracting specific elements from nested lists.\n",
    "\"\"\"\n",
    "\n",
    "# Example code to demonstrate this\n",
    "nested_list = [[2, 4, 6], [8, 10, 12], [14, 16, 18]]\n",
    "\n",
    "# Extract the second value in each row using list comprehension\n",
    "second_values = [row[1] for row in nested_list]\n",
    "\n",
    "# Print the result\n",
    "print(\"Second values in each row:\", second_values)\n",
    "\n",
    "# Expected output: [4, 10, 16]"
   ]
  },
  {
   "cell_type": "code",
   "execution_count": 28,
   "id": "739edaa8-1303-4bd7-801a-b963093407a2",
   "metadata": {},
   "outputs": [
    {
     "name": "stdout",
     "output_type": "stream",
     "text": [
      "The array was not sorted, sorting now.\n",
      "Sorted array:\n",
      "[[ 1  2  3]\n",
      " [ 5  6  8]\n",
      " [10 12 15]]\n"
     ]
    }
   ],
   "source": [
    "import numpy as np\n",
    "\n",
    "def sort_multi_dimensional_array(array):\n",
    "    \"\"\"\n",
    "    Sorts a multi-dimensional array if it is not already sorted.\n",
    "    Checks each row and sorts the array only if any row is out of order.\n",
    "    \"\"\"\n",
    "    # Check if the array is already sorted by comparing each row\n",
    "    is_sorted = all((np.array_equal(row, np.sort(row))) for row in array)\n",
    "    \n",
    "    if is_sorted:\n",
    "        print(\"The array is already sorted.\")\n",
    "        return array\n",
    "    else:\n",
    "        print(\"The array was not sorted, sorting now.\")\n",
    "        sorted_array = np.array([np.sort(row) for row in array])\n",
    "        return sorted_array\n",
    "\n",
    "# Example input array\n",
    "multi_d_array = np.array([[3, 1, 2], [8, 5, 6], [10, 15, 12]])\n",
    "\n",
    "# Call the function and print the result\n",
    "sorted_array = sort_multi_dimensional_array(multi_d_array)\n",
    "print(\"Sorted array:\")\n",
    "print(sorted_array)\n",
    "\n",
    "# Expected output:\n",
    "# \"The array was not sorted, sorting now.\"\n",
    "# Sorted array:\n",
    "# [[1 2 3]\n",
    "#  [5 6 8]\n",
    "#  [10 12 15]]"
   ]
  },
  {
   "cell_type": "code",
   "execution_count": 30,
   "id": "4457de37-1c86-4a3d-81bf-996b21fb3596",
   "metadata": {},
   "outputs": [
    {
     "name": "stdout",
     "output_type": "stream",
     "text": [
      "Example 1 - Test case 1: Create a NumPy ndarray Object\n",
      "[1 2 3 4]\n",
      "Type of arr1: <class 'numpy.ndarray'>\n",
      "\n",
      "Example 1 - Test case 2: Create a NumPy ndarray Object\n",
      "[10 20 30 40]\n",
      "Type of arr2: <class 'numpy.ndarray'>\n",
      "\n",
      "Example 2 - 0-D Array\n",
      "0-D Array: 42\n",
      "Dimensions: 0\n",
      "\n",
      "Example 2 - 1-D Array\n",
      "1-D Array: [ 5 10 15]\n",
      "Dimensions: 1\n",
      "\n",
      "Example 2 - 2-D Array\n",
      "2-D Array:\n",
      "[[1 2 3]\n",
      " [4 5 6]]\n",
      "Dimensions: 2\n",
      "\n",
      "Example 2 - 3-D Array\n",
      "3-D Array:\n",
      "[[[1 2]\n",
      "  [3 4]]\n",
      "\n",
      " [[5 6]\n",
      "  [7 8]]]\n",
      "Dimensions: 3\n",
      "\n",
      "Example 3 - Test case 1: Check Number of Dimensions\n",
      "Array:\n",
      "[[1 2]\n",
      " [3 4]]\n",
      "Number of dimensions: 2\n",
      "\n",
      "Example 3 - Test case 2: Check Number of Dimensions\n",
      "Higher dimensional array:\n",
      "[[[[[1 2 3 4 5]]]]]\n",
      "Number of dimensions: 5\n",
      "\n",
      "Example 4 - Test case 1: Higher Dimensional Arrays\n",
      "3D Array created with ndmin=3:\n",
      "[[[1 2 3 4]]]\n",
      "Number of dimensions: 3\n",
      "\n",
      "Example 4 - Test case 2: Higher Dimensional Arrays\n",
      "4D Array created with ndmin=4:\n",
      "[[[[5 6 7 8]]]]\n",
      "Number of dimensions: 4\n"
     ]
    }
   ],
   "source": [
    "import numpy as np\n",
    "\n",
    "# Example 1: Create a NumPy ndarray Object\n",
    "# Test case 1\n",
    "arr1 = np.array([1, 2, 3, 4])\n",
    "print(\"Example 1 - Test case 1: Create a NumPy ndarray Object\")\n",
    "print(arr1)\n",
    "print(\"Type of arr1:\", type(arr1))  # Should print <class 'numpy.ndarray'>\n",
    "\n",
    "# Test case 2\n",
    "arr2 = np.array([10, 20, 30, 40])\n",
    "print(\"\\nExample 1 - Test case 2: Create a NumPy ndarray Object\")\n",
    "print(arr2)\n",
    "print(\"Type of arr2:\", type(arr2))  # Should print <class 'numpy.ndarray'>\n",
    "\n",
    "# Example 2: Dimensions in Arrays\n",
    "# 0-D Arrays\n",
    "zero_d_array = np.array(42)\n",
    "print(\"\\nExample 2 - 0-D Array\")\n",
    "print(\"0-D Array:\", zero_d_array)\n",
    "print(\"Dimensions:\", zero_d_array.ndim)  # Should print 0\n",
    "\n",
    "# 1-D Arrays\n",
    "one_d_array = np.array([5, 10, 15])\n",
    "print(\"\\nExample 2 - 1-D Array\")\n",
    "print(\"1-D Array:\", one_d_array)\n",
    "print(\"Dimensions:\", one_d_array.ndim)  # Should print 1\n",
    "\n",
    "# 2-D Arrays\n",
    "two_d_array = np.array([[1, 2, 3], [4, 5, 6]])\n",
    "print(\"\\nExample 2 - 2-D Array\")\n",
    "print(\"2-D Array:\")\n",
    "print(two_d_array)\n",
    "print(\"Dimensions:\", two_d_array.ndim)  # Should print 2\n",
    "\n",
    "# 3-D Arrays\n",
    "three_d_array = np.array([[[1, 2], [3, 4]], [[5, 6], [7, 8]]])\n",
    "print(\"\\nExample 2 - 3-D Array\")\n",
    "print(\"3-D Array:\")\n",
    "print(three_d_array)\n",
    "print(\"Dimensions:\", three_d_array.ndim)  # Should print 3\n",
    "\n",
    "# Example 3: Check Number of Dimensions\n",
    "# Test case 1\n",
    "arr3 = np.array([[1, 2], [3, 4]])\n",
    "print(\"\\nExample 3 - Test case 1: Check Number of Dimensions\")\n",
    "print(\"Array:\")\n",
    "print(arr3)\n",
    "print(\"Number of dimensions:\", arr3.ndim)  # Should print 2\n",
    "\n",
    "# Test case 2\n",
    "arr4 = np.array([1, 2, 3, 4, 5], ndmin=5)\n",
    "print(\"\\nExample 3 - Test case 2: Check Number of Dimensions\")\n",
    "print(\"Higher dimensional array:\")\n",
    "print(arr4)\n",
    "print(\"Number of dimensions:\", arr4.ndim)  # Should print 5\n",
    "\n",
    "# Example 4: Higher Dimensional Arrays\n",
    "# Test case 1\n",
    "high_dim_array1 = np.array([1, 2, 3, 4], ndmin=3)\n",
    "print(\"\\nExample 4 - Test case 1: Higher Dimensional Arrays\")\n",
    "print(\"3D Array created with ndmin=3:\")\n",
    "print(high_dim_array1)\n",
    "print(\"Number of dimensions:\", high_dim_array1.ndim)  # Should print 3\n",
    "\n",
    "# Test case 2\n",
    "high_dim_array2 = np.array([5, 6, 7, 8], ndmin=4)\n",
    "print(\"\\nExample 4 - Test case 2: Higher Dimensional Arrays\")\n",
    "print(\"4D Array created with ndmin=4:\")\n",
    "print(high_dim_array2)\n",
    "print(\"Number of dimensions:\", high_dim_array2.ndim)  # Should print 4"
   ]
  },
  {
   "cell_type": "code",
   "execution_count": 32,
   "id": "f753771c-fb1f-426a-9830-ccded6daa2ba",
   "metadata": {},
   "outputs": [
    {
     "data": {
      "text/plain": [
       "'\\nThe function `sort_multi_dimensional_array` was inspired by the \"NumPy Array Sorting\" section.\\nI took inspiration from this section\\'s focus on sorting arrays and expanded on it by adding conditional\\nchecks to only sort arrays that are not already in order. This approach helps in understanding array\\nmanipulation and the use of control structures like conditional statements and loops within NumPy.\\n'"
      ]
     },
     "execution_count": 32,
     "metadata": {},
     "output_type": "execute_result"
    }
   ],
   "source": [
    "# Description of inspiration for the function\n",
    "\"\"\"\n",
    "The function `sort_multi_dimensional_array` was inspired by the \"NumPy Array Sorting\" section.\n",
    "I took inspiration from this section's focus on sorting arrays and expanded on it by adding conditional\n",
    "checks to only sort arrays that are not already in order. This approach helps in understanding array\n",
    "manipulation and the use of control structures like conditional statements and loops within NumPy.\n",
    "\"\"\""
   ]
  },
  {
   "cell_type": "code",
   "execution_count": 25,
   "id": "81d4a71d-da02-4540-8152-baea68b50c39",
   "metadata": {},
   "outputs": [
    {
     "name": "stdout",
     "output_type": "stream",
     "text": [
      "I didn't find Brianna's Module.\n"
     ]
    }
   ],
   "source": [
    "print(\"I didn't find Brianna's Module.\")"
   ]
  },
  {
   "cell_type": "code",
   "execution_count": null,
   "id": "11b98370-6dd5-45c0-ab83-348283e6d9a2",
   "metadata": {},
   "outputs": [],
   "source": []
  },
  {
   "cell_type": "code",
   "execution_count": 2,
   "id": "54b4970c-e728-41c4-8fc7-6b07f874c6a3",
   "metadata": {},
   "outputs": [],
   "source": [
    "# File: example.py\n",
    "\n",
    "import numpy as np\n",
    "\n",
    "G = 6.6743e-11 # Gravitational contanst in m^3 kg^-1 s^-2\n",
    "\n",
    "def escape_velocity(mass, radius):\n",
    "    \"\"\"\n",
    "    Calculates escape velocity of a planet.\n",
    "    v_esc = (2GM/r)^(1/2)\n",
    "\n",
    "    Inputs:\n",
    "    mass (float): mass of the planet in grams\n",
    "    radius (float): radius of the planet in kg\n",
    "\n",
    "    Output:\n",
    "    esc_velocity (float): escape velocity in meters per second\n",
    "    \"\"\"\n",
    "    \n",
    "    result = 2 * G * mass\n",
    "    result /= radius\n",
    "\n",
    "    esc_velocity = np.sqrt(result)\n",
    "    \n",
    "    return esc_velocity\n",
    "\n",
    "def orbital_velocity(mass, radius):\n",
    "    \"\"\"\n",
    "    Calculates orbital velocity of a planet.\n",
    "    v_orb = (GM/r)^(1/2)\n",
    "\n",
    "    Inputs:\n",
    "    mass (float): mass of the planet in kilograms\n",
    "    radius (float): radius of the planet in meters\n",
    "\n",
    "    Output:\n",
    "    orb_velocity (float): orbital velocity in meters per second\n",
    "    \"\"\"\n",
    "\n",
    "    orb_velocity = np.sqrt((G * mass) / radius)\n",
    "    return orb_velocity\n",
    "\n",
    "\n",
    "def rocket_launch(rocket_velocities, mass_of_planet, radius_of_planet):\n",
    "    \"\"\"\n",
    "    Determines if a rocket can escape based on its final velocity.\n",
    "\n",
    "    Inputs:\n",
    "    rocket_velocities (numpy.ndarray): list of rocket velocities in meters per second\n",
    "    mass_of_planet (float): mass of the planet in kilograms\n",
    "    radius_of_planet (float): radius of the planet in meters\n",
    "\n",
    "    Output:\n",
    "    statuses (list): statements for each rocket, describes its status.\n",
    "    \"\"\"\n",
    "\n",
    "    esc_velocity = escape_velocity(mass = mass_of_planet,\n",
    "                                      radius = radius_of_planet)\n",
    "    \n",
    "    orb_velocity = orbital_velocity(mass = mass_of_planet,\n",
    "                                        radius = radius_of_planet)\n",
    "    \n",
    "    statuses = []\n",
    "    for rocket in rocket_velocities:\n",
    "        final_velocity_of_rocket = rocket[-1]\n",
    "        \n",
    "        if final_velocity_of_rocket < orb_velocity:\n",
    "            statement = \"Rocket crashes back into the planet!\"\n",
    "        \n",
    "        elif orb_velocity <= final_velocity_of_rocket < esc_velocity:\n",
    "            statement = \"Rocket is orbiting around the planet.\"\n",
    "        \n",
    "        else:\n",
    "            statement = \"Rocket left the planet!\"\n",
    "\n",
    "        statuses.append(statement)\n",
    "\n",
    "    return statuses"
   ]
  },
  {
   "cell_type": "code",
   "execution_count": 8,
   "id": "07a7270b-6490-46c5-9426-7bccc31e03d4",
   "metadata": {},
   "outputs": [
    {
     "name": "stdout",
     "output_type": "stream",
     "text": [
      "['Rocket left the planet!', 'Rocket is orbiting around the planet.', 'Rocket crashes back into the planet!']\n"
     ]
    }
   ],
   "source": [
    "import numpy as np\n",
    "\n",
    "G = 6.6743e-11  # Gravitational constant in m^3 kg^-1 s^-2\n",
    "\n",
    "def escape_velocity(mass, radius):\n",
    "    \"\"\"\n",
    "    Calculates escape velocity of a planet.\n",
    "    \"\"\"\n",
    "    return np.sqrt(2 * G * mass / radius)\n",
    "\n",
    "def orbital_velocity(mass, radius):\n",
    "    \"\"\"\n",
    "    Calculates orbital velocity of a planet.\n",
    "    \"\"\"\n",
    "    return np.sqrt(G * mass / radius)\n",
    "\n",
    "def rocket_launch(rocket_velocities, mass_of_planet, radius_of_planet):\n",
    "    \"\"\"\n",
    "    Determines if a rocket can escape based on its final velocity.\n",
    "    \"\"\"\n",
    "    esc_velocity = escape_velocity(mass=mass_of_planet, radius=radius_of_planet)\n",
    "    orb_velocity = orbital_velocity(mass=mass_of_planet, radius=radius_of_planet)\n",
    "    \n",
    "    statuses = []\n",
    "    for rocket in rocket_velocities:\n",
    "        final_velocity_of_rocket = rocket[-1]\n",
    "        \n",
    "        if final_velocity_of_rocket < orb_velocity:\n",
    "            statement = \"Rocket crashes back into the planet!\"\n",
    "        elif orb_velocity <= final_velocity_of_rocket < esc_velocity:\n",
    "            statement = \"Rocket is orbiting around the planet.\"\n",
    "        else:\n",
    "            statement = \"Rocket left the planet!\"\n",
    "        \n",
    "        statuses.append(statement)\n",
    "    \n",
    "    return statuses\n",
    "\n",
    "# Provided rocket velocities and planet data\n",
    "rocket_velocities = np.array([\n",
    "    [1000, 5000, 8000, 12000],  # Rocket 1's velocity at different times\n",
    "    [2000, 6000, 9000, 10000],  # Rocket 2\n",
    "    [3000, 3100, 3200, 3300]    # Rocket 3\n",
    "])\n",
    "\n",
    "mass_of_planet = 5.972e24  # Earth's mass in kilograms\n",
    "radius_of_planet = 6.371e6  # Earth's radius in meters\n",
    "\n",
    "# Calculate and print the statuses of the rockets\n",
    "statuses = rocket_launch(rocket_velocities, mass_of_planet, radius_of_planet)\n",
    "print(statuses)"
   ]
  },
  {
   "cell_type": "code",
   "execution_count": 10,
   "id": "262148a8-0fd1-44c3-97a2-f76f25a670a2",
   "metadata": {},
   "outputs": [
    {
     "data": {
      "text/plain": [
       "\"\\nThe code follows good coding practices by using descriptive function and variable names, clear docstrings for each function, and leveraging NumPy for efficient mathematical calculations. It also uses conditional statements and loops effectively to determine the rocket statuses. However, there's room for improvement by adding error handling (e.g., checking for negative or invalid inputs) and breaking down the larger `rocket_launch` function into smaller, more modular functions to enhance readability and maintainability.\\n\""
      ]
     },
     "execution_count": 10,
     "metadata": {},
     "output_type": "execute_result"
    }
   ],
   "source": [
    "# Description of good coding practices:\n",
    "\"\"\"\n",
    "The code follows good coding practices by using descriptive function and variable names, clear docstrings for each function, and leveraging NumPy for efficient mathematical calculations. It also uses conditional statements and loops effectively to determine the rocket statuses. However, there's room for improvement by adding error handling (e.g., checking for negative or invalid inputs) and breaking down the larger `rocket_launch` function into smaller, more modular functions to enhance readability and maintainability.\n",
    "\"\"\""
   ]
  },
  {
   "cell_type": "code",
   "execution_count": 22,
   "id": "28f35c75-7741-4505-9d1d-91673877db98",
   "metadata": {},
   "outputs": [
    {
     "data": {
      "text/plain": [
       "'\\nThe module simulates projectile motion, allowing users to calculate the trajectory of a projectile based on its initial speed and launch angle. \\nIt includes functions to compute the velocity components, simulate the projectile’s path over time, find the maximum height reached, and classify the projectile based on its altitude. \\nThis module can be used to analyze and visualize projectile motion for physics-related applications.\\n'"
      ]
     },
     "execution_count": 22,
     "metadata": {},
     "output_type": "execute_result"
    }
   ],
   "source": [
    "# Description of the module:\n",
    "\"\"\"\n",
    "The module simulates projectile motion, allowing users to calculate the trajectory of a projectile based on its initial speed and launch angle. \n",
    "It includes functions to compute the velocity components, simulate the projectile’s path over time, find the maximum height reached, and classify the projectile based on its altitude. \n",
    "This module can be used to analyze and visualize projectile motion for physics-related applications.\n",
    "\"\"\""
   ]
  },
  {
   "cell_type": "code",
   "execution_count": 18,
   "id": "9d0ab127-29f5-433f-8b4f-6e15a29965ba",
   "metadata": {},
   "outputs": [
    {
     "data": {
      "text/plain": [
       "'\\nThe most challenging part of building this module was ensuring that the simulation logic and the calculations were accurate, especially when working with multi-dimensional arrays and handling edge cases like when the projectile hits the ground. I learned the importance of using clear, modular functions to break down complex tasks, which improves code readability and reusability. This experience taught me how to better leverage NumPy for efficient computations, which I can apply to future projects involving data analysis or simulations.\\n'"
      ]
     },
     "execution_count": 18,
     "metadata": {},
     "output_type": "execute_result"
    }
   ],
   "source": [
    "# Explanation of challenges and lessons learned:\n",
    "\"\"\"\n",
    "The most challenging part of building this module was ensuring that the simulation logic and the calculations were accurate, especially when working with multi-dimensional arrays and handling edge cases like when the projectile hits the ground. I learned the importance of using clear, modular functions to break down complex tasks, which improves code readability and reusability. This experience taught me how to better leverage NumPy for efficient computations, which I can apply to future projects involving data analysis or simulations.\n",
    "\"\"\""
   ]
  },
  {
   "cell_type": "code",
   "execution_count": 20,
   "id": "2025a4a4-248b-4427-8ce5-d03a432bfbb1",
   "metadata": {},
   "outputs": [
    {
     "name": "stdout",
     "output_type": "stream",
     "text": [
      "Time (s), X Position (m), Y Position (m):\n",
      "[[ 0.00000000e+00  0.00000000e+00  0.00000000e+00]\n",
      " [ 1.00000000e-01  3.53553391e+00  3.48648391e+00]\n",
      " [ 2.00000000e-01  7.07106781e+00  6.87486781e+00]\n",
      " [ 3.00000000e-01  1.06066017e+01  1.01651517e+01]\n",
      " [ 4.00000000e-01  1.41421356e+01  1.33573356e+01]\n",
      " [ 5.00000000e-01  1.76776695e+01  1.64514195e+01]\n",
      " [ 6.00000000e-01  2.12132034e+01  1.94474034e+01]\n",
      " [ 7.00000000e-01  2.47487373e+01  2.23452873e+01]\n",
      " [ 8.00000000e-01  2.82842712e+01  2.51450712e+01]\n",
      " [ 9.00000000e-01  3.18198052e+01  2.78467552e+01]\n",
      " [ 1.00000000e+00  3.53553391e+01  3.04503391e+01]\n",
      " [ 1.10000000e+00  3.88908730e+01  3.29558230e+01]\n",
      " [ 1.20000000e+00  4.24264069e+01  3.53632069e+01]\n",
      " [ 1.30000000e+00  4.59619408e+01  3.76724908e+01]\n",
      " [ 1.40000000e+00  4.94974747e+01  3.98836747e+01]\n",
      " [ 1.50000000e+00  5.30330086e+01  4.19967586e+01]\n",
      " [ 1.60000000e+00  5.65685425e+01  4.40117425e+01]\n",
      " [ 1.70000000e+00  6.01040764e+01  4.59286264e+01]\n",
      " [ 1.80000000e+00  6.36396103e+01  4.77474103e+01]\n",
      " [ 1.90000000e+00  6.71751442e+01  4.94680942e+01]\n",
      " [ 2.00000000e+00  7.07106781e+01  5.10906781e+01]\n",
      " [ 2.10000000e+00  7.42462120e+01  5.26151620e+01]\n",
      " [ 2.20000000e+00  7.77817459e+01  5.40415459e+01]\n",
      " [ 2.30000000e+00  8.13172798e+01  5.53698298e+01]\n",
      " [ 2.40000000e+00  8.48528137e+01  5.66000137e+01]\n",
      " [ 2.50000000e+00  8.83883476e+01  5.77320976e+01]\n",
      " [ 2.60000000e+00  9.19238816e+01  5.87660816e+01]\n",
      " [ 2.70000000e+00  9.54594155e+01  5.97019655e+01]\n",
      " [ 2.80000000e+00  9.89949494e+01  6.05397494e+01]\n",
      " [ 2.90000000e+00  1.02530483e+02  6.12794333e+01]\n",
      " [ 3.00000000e+00  1.06066017e+02  6.19210172e+01]\n",
      " [ 3.10000000e+00  1.09601551e+02  6.24645011e+01]\n",
      " [ 3.20000000e+00  1.13137085e+02  6.29098850e+01]\n",
      " [ 3.30000000e+00  1.16672619e+02  6.32571689e+01]\n",
      " [ 3.40000000e+00  1.20208153e+02  6.35063528e+01]\n",
      " [ 3.50000000e+00  1.23743687e+02  6.36574367e+01]\n",
      " [ 3.60000000e+00  1.27279221e+02  6.37104206e+01]\n",
      " [ 3.70000000e+00  1.30814755e+02  6.36653045e+01]\n",
      " [ 3.80000000e+00  1.34350288e+02  6.35220884e+01]\n",
      " [ 3.90000000e+00  1.37885822e+02  6.32807723e+01]\n",
      " [ 4.00000000e+00  1.41421356e+02  6.29413562e+01]\n",
      " [ 4.10000000e+00  1.44956890e+02  6.25038401e+01]\n",
      " [ 4.20000000e+00  1.48492424e+02  6.19682240e+01]\n",
      " [ 4.30000000e+00  1.52027958e+02  6.13345080e+01]\n",
      " [ 4.40000000e+00  1.55563492e+02  6.06026919e+01]\n",
      " [ 4.50000000e+00  1.59099026e+02  5.97727758e+01]\n",
      " [ 4.60000000e+00  1.62634560e+02  5.88447597e+01]\n",
      " [ 4.70000000e+00  1.66170094e+02  5.78186436e+01]\n",
      " [ 4.80000000e+00  1.69705627e+02  5.66944275e+01]\n",
      " [ 4.90000000e+00  1.73241161e+02  5.54721114e+01]\n",
      " [ 5.00000000e+00  1.76776695e+02  5.41516953e+01]\n",
      " [ 5.10000000e+00  1.80312229e+02  5.27331792e+01]\n",
      " [ 5.20000000e+00  1.83847763e+02  5.12165631e+01]\n",
      " [ 5.30000000e+00  1.87383297e+02  4.96018470e+01]\n",
      " [ 5.40000000e+00  1.90918831e+02  4.78890309e+01]\n",
      " [ 5.50000000e+00  1.94454365e+02  4.60781148e+01]\n",
      " [ 5.60000000e+00  1.97989899e+02  4.41690987e+01]\n",
      " [ 5.70000000e+00  2.01525433e+02  4.21619826e+01]\n",
      " [ 5.80000000e+00  2.05060967e+02  4.00567665e+01]\n",
      " [ 5.90000000e+00  2.08596500e+02  3.78534505e+01]\n",
      " [ 6.00000000e+00  2.12132034e+02  3.55520344e+01]\n",
      " [ 6.10000000e+00  2.15667568e+02  3.31525183e+01]\n",
      " [ 6.20000000e+00  2.19203102e+02  3.06549022e+01]\n",
      " [ 6.30000000e+00  2.22738636e+02  2.80591861e+01]\n",
      " [ 6.40000000e+00  2.26274170e+02  2.53653700e+01]\n",
      " [ 6.50000000e+00  2.29809704e+02  2.25734539e+01]\n",
      " [ 6.60000000e+00  2.33345238e+02  1.96834378e+01]\n",
      " [ 6.70000000e+00  2.36880772e+02  1.66953217e+01]\n",
      " [ 6.80000000e+00  2.40416306e+02  1.36091056e+01]\n",
      " [ 6.90000000e+00  2.43951840e+02  1.04247895e+01]\n",
      " [ 7.00000000e+00  2.47487373e+02  7.14237342e+00]\n",
      " [ 7.10000000e+00  2.51022907e+02  3.76185732e+00]\n",
      " [ 7.20000000e+00  2.54558441e+02  2.83241227e-01]\n",
      " [ 7.30000000e+00  2.58093975e+02 -3.29347487e+00]\n",
      " [ 0.00000000e+00  0.00000000e+00  0.00000000e+00]\n",
      " [ 0.00000000e+00  0.00000000e+00  0.00000000e+00]\n",
      " [ 0.00000000e+00  0.00000000e+00  0.00000000e+00]\n",
      " [ 0.00000000e+00  0.00000000e+00  0.00000000e+00]\n",
      " [ 0.00000000e+00  0.00000000e+00  0.00000000e+00]\n",
      " [ 0.00000000e+00  0.00000000e+00  0.00000000e+00]\n",
      " [ 0.00000000e+00  0.00000000e+00  0.00000000e+00]\n",
      " [ 0.00000000e+00  0.00000000e+00  0.00000000e+00]\n",
      " [ 0.00000000e+00  0.00000000e+00  0.00000000e+00]\n",
      " [ 0.00000000e+00  0.00000000e+00  0.00000000e+00]\n",
      " [ 0.00000000e+00  0.00000000e+00  0.00000000e+00]\n",
      " [ 0.00000000e+00  0.00000000e+00  0.00000000e+00]\n",
      " [ 0.00000000e+00  0.00000000e+00  0.00000000e+00]\n",
      " [ 0.00000000e+00  0.00000000e+00  0.00000000e+00]\n",
      " [ 0.00000000e+00  0.00000000e+00  0.00000000e+00]\n",
      " [ 0.00000000e+00  0.00000000e+00  0.00000000e+00]\n",
      " [ 0.00000000e+00  0.00000000e+00  0.00000000e+00]\n",
      " [ 0.00000000e+00  0.00000000e+00  0.00000000e+00]\n",
      " [ 0.00000000e+00  0.00000000e+00  0.00000000e+00]\n",
      " [ 0.00000000e+00  0.00000000e+00  0.00000000e+00]\n",
      " [ 0.00000000e+00  0.00000000e+00  0.00000000e+00]\n",
      " [ 0.00000000e+00  0.00000000e+00  0.00000000e+00]\n",
      " [ 0.00000000e+00  0.00000000e+00  0.00000000e+00]\n",
      " [ 0.00000000e+00  0.00000000e+00  0.00000000e+00]\n",
      " [ 0.00000000e+00  0.00000000e+00  0.00000000e+00]\n",
      " [ 0.00000000e+00  0.00000000e+00  0.00000000e+00]]\n",
      "\n",
      "Maximum Height: 63.71042061357855 meters\n",
      "\n",
      "Classification: High altitude projectile\n"
     ]
    }
   ],
   "source": [
    "import numpy as np\n",
    "\n",
    "# Constants\n",
    "G = 6.6743e-11  # Gravitational constant in m^3 kg^-1 s^-2\n",
    "g = 9.81  # Acceleration due to gravity (m/s^2)\n",
    "\n",
    "def calculate_velocity(initial_velocity, angle):\n",
    "    \"\"\"\n",
    "    Calculates the initial velocity components in the x and y directions.\n",
    "    \n",
    "    Inputs:\n",
    "    - initial_velocity (float): The initial speed of the projectile in m/s.\n",
    "    - angle (float): The launch angle in degrees.\n",
    "    \n",
    "    Outputs:\n",
    "    - vel_x (float): Velocity in the x-direction.\n",
    "    - vel_y (float): Velocity in the y-direction.\n",
    "    \"\"\"\n",
    "    angle_rad = np.deg2rad(angle)  # Convert angle to radians\n",
    "    vel_x = initial_velocity * np.cos(angle_rad)\n",
    "    vel_y = initial_velocity * np.sin(angle_rad)\n",
    "    return vel_x, vel_y\n",
    "\n",
    "def simulate_projectile(initial_velocity, angle, time_steps):\n",
    "    \"\"\"\n",
    "    Simulates projectile motion and returns the trajectory as a 2D array.\n",
    "    \n",
    "    Inputs:\n",
    "    - initial_velocity (float): Initial speed in m/s.\n",
    "    - angle (float): Launch angle in degrees.\n",
    "    - time_steps (int): Number of time steps for the simulation.\n",
    "    \n",
    "    Outputs:\n",
    "    - trajectory (ndarray): A 2D array containing time, x, and y positions.\n",
    "    \"\"\"\n",
    "    vel_x, vel_y = calculate_velocity(initial_velocity, angle)\n",
    "    trajectory = np.zeros((time_steps, 3))  # Create a multi-dimensional array\n",
    "\n",
    "    for t in range(time_steps):\n",
    "        time = t * 0.1  # Time interval of 0.1 seconds\n",
    "        x_pos = vel_x * time\n",
    "        y_pos = vel_y * time - 0.5 * g * time ** 2\n",
    "        \n",
    "        # Store the values in the trajectory array\n",
    "        trajectory[t] = [time, x_pos, y_pos]\n",
    "        \n",
    "        # If the projectile hits the ground, stop the simulation\n",
    "        if y_pos < 0:\n",
    "            break\n",
    "\n",
    "    return trajectory\n",
    "\n",
    "def find_max_height(trajectory):\n",
    "    \"\"\"\n",
    "    Finds the maximum height reached by the projectile.\n",
    "    \n",
    "    Inputs:\n",
    "    - trajectory (ndarray): 2D array containing the projectile's trajectory.\n",
    "    \n",
    "    Output:\n",
    "    - max_height (float): The maximum height in meters.\n",
    "    \"\"\"\n",
    "    max_height = np.max(trajectory[:, 2])\n",
    "    return max_height\n",
    "\n",
    "def classify_projectile(trajectory):\n",
    "    \"\"\"\n",
    "    Classifies the projectile based on its maximum height.\n",
    "    \n",
    "    Inputs:\n",
    "    - trajectory (ndarray): 2D array of projectile motion data.\n",
    "    \n",
    "    Output:\n",
    "    - classification (str): Description of the projectile's performance.\n",
    "    \"\"\"\n",
    "    max_height = find_max_height(trajectory)\n",
    "    \n",
    "    if max_height > 50:\n",
    "        classification = \"High altitude projectile\"\n",
    "    elif max_height > 20:\n",
    "        classification = \"Moderate altitude projectile\"\n",
    "    else:\n",
    "        classification = \"Low altitude projectile\"\n",
    "    \n",
    "    return classification\n",
    "\n",
    "# Main code\n",
    "if __name__ == \"__main__\":\n",
    "    # Test cases\n",
    "    initial_velocity = 50  # m/s\n",
    "    angle = 45  # degrees\n",
    "    time_steps = 100  # Number of time steps\n",
    "\n",
    "    # Simulate projectile motion\n",
    "    trajectory = simulate_projectile(initial_velocity, angle, time_steps)\n",
    "\n",
    "    # Display the trajectory\n",
    "    print(\"Time (s), X Position (m), Y Position (m):\")\n",
    "    print(trajectory)\n",
    "\n",
    "    # Find the maximum height\n",
    "    max_height = find_max_height(trajectory)\n",
    "    print(\"\\nMaximum Height:\", max_height, \"meters\")\n",
    "\n",
    "    # Classify the projectile\n",
    "    classification = classify_projectile(trajectory)\n",
    "    print(\"\\nClassification:\", classification)"
   ]
  },
  {
   "cell_type": "code",
   "execution_count": null,
   "id": "57d2d580-ce73-4445-9556-fae1c110a785",
   "metadata": {},
   "outputs": [],
   "source": []
  }
 ],
 "metadata": {
  "kernelspec": {
   "display_name": "Python 3 (ipykernel)",
   "language": "python",
   "name": "python3"
  },
  "language_info": {
   "codemirror_mode": {
    "name": "ipython",
    "version": 3
   },
   "file_extension": ".py",
   "mimetype": "text/x-python",
   "name": "python",
   "nbconvert_exporter": "python",
   "pygments_lexer": "ipython3",
   "version": "3.11.7"
  }
 },
 "nbformat": 4,
 "nbformat_minor": 5
}
