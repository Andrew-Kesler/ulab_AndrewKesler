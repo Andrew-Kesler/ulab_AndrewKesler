{
 "cells": [
  {
   "cell_type": "code",
   "execution_count": 4,
   "id": "a85a4c0d-abf5-4129-9eb9-a7758e05b43f",
   "metadata": {},
   "outputs": [
    {
     "name": "stdout",
     "output_type": "stream",
     "text": [
      "Test List 1 Results: {'first_5': [1, 2, 3, 4, 5], 'last_5': [16, 17, 18, 19, 20], 'every_2nd': [1, 3, 5, 7, 9, 11, 14, 16, 18, 20], 'reversed': [20, 19, 18, 17, 16, 15, 14, 12, 11, 10, 9, 8, 7, 6, 5, 4, 3, 2, 1]}\n",
      "Test List 2 Results: {'first_5': [10, 20, 30, 40, 50], 'last_5': [60, 70, 80, 90, 100], 'every_2nd': [10, 30, 50, 70, 90], 'reversed': [100, 90, 80, 70, 60, 50, 40, 30, 20, 10]}\n",
      "Test List 3 Results: {'first_5': [5, 10, 15, 20, 25], 'last_5': [35, 40, 45, 50, 55], 'every_2nd': [5, 15, 25, 35, 45, 55], 'reversed': [55, 50, 45, 40, 35, 30, 25, 20, 15, 10, 5]}\n"
     ]
    }
   ],
   "source": [
    "def list_slicing_and_striding(int_list):\n",
    "    \"\"\"\n",
    "    Function that takes a list of integers and returns:\n",
    "    - The first 5 elements\n",
    "    - The last 5 elements\n",
    "    - Every 2nd element\n",
    "    - The list in reverse order\n",
    "    \"\"\"\n",
    "    first_five = int_list[:5]\n",
    "    last_five = int_list[-5:]\n",
    "    every_second = int_list[::2]\n",
    "    reversed_list = int_list[::-1]\n",
    "    \n",
    "    return {\n",
    "        \"first_5\": first_five,\n",
    "        \"last_5\": last_five,\n",
    "        \"every_2nd\": every_second,\n",
    "        \"reversed\": reversed_list\n",
    "    }\n",
    "\n",
    "# Example usage with test cases\n",
    "test_list_1 = [1, 2, 3, 4, 5, 6, 7, 8, 9, 10, 11, 12, 14, 15, 16, 17, 18, 19, 20]\n",
    "test_list_2 = [10, 20, 30, 40, 50, 60, 70, 80, 90, 100]\n",
    "test_list_3 = [5, 10, 15, 20, 25, 30, 35, 40, 45, 50, 55]\n",
    "\n",
    "# Print results for each test case\n",
    "print(\"Test List 1 Results:\", list_slicing_and_striding(test_list_1))\n",
    "print(\"Test List 2 Results:\", list_slicing_and_striding(test_list_2))\n",
    "print(\"Test List 3 Results:\", list_slicing_and_striding(test_list_3))\n"
   ]
  },
  {
   "cell_type": "code",
   "execution_count": 6,
   "id": "b97b044b-486c-45c3-8b96-f8f843bdf4ef",
   "metadata": {},
   "outputs": [
    {
     "name": "stdout",
     "output_type": "stream",
     "text": [
      "Test List 1 Results: {'squares': [1, 4, 9, 16, 25, 36], 'cubes_of_even': [8, 64, 216]}\n",
      "Test List 2 Results: {'squares': [49, 64, 81, 100, 121, 144], 'cubes_of_even': [512, 1000, 1728]}\n",
      "Test List 3 Results: {'squares': [169, 196, 225, 256, 289, 324], 'cubes_of_even': [2744, 4096, 5832]}\n"
     ]
    }
   ],
   "source": [
    "def process_list_squares_and_cubes(int_list):\n",
    "    \"\"\"\n",
    "    Function that takes a list of integers and returns:\n",
    "    - The square of each number in the list\n",
    "    - The cube of each even number in the list\n",
    "    \"\"\"\n",
    "    squares = [x ** 2 for x in int_list]          # Square of each number\n",
    "    cubes_of_even = [x ** 3 for x in int_list if x % 2 == 0]  # Cube of each even number\n",
    "    \n",
    "    return {\n",
    "        \"squares\": squares,\n",
    "        \"cubes_of_even\": cubes_of_even\n",
    "    }\n",
    "\n",
    "# Example usage with test cases\n",
    "test_list_1 = [1, 2, 3, 4, 5, 6]\n",
    "test_list_2 = [7, 8, 9, 10, 11, 12]\n",
    "test_list_3 = [13, 14, 15, 16, 17, 18]\n",
    "\n",
    "# Print results for each test case\n",
    "print(\"Test List 1 Results:\", process_list_squares_and_cubes(test_list_1))\n",
    "print(\"Test List 2 Results:\", process_list_squares_and_cubes(test_list_2))\n",
    "print(\"Test List 3 Results:\", process_list_squares_and_cubes(test_list_3))"
   ]
  },
  {
   "cell_type": "code",
   "execution_count": 8,
   "id": "8857ba0c-0177-43e1-990c-386887626bca",
   "metadata": {},
   "outputs": [
    {
     "name": "stdout",
     "output_type": "stream",
     "text": [
      "{'Mercury': 0.39, 'Venus': 0.72, 'Earth': 1.0, 'Mars': 1.52, 'Jupiter': 5.2, 'Saturn': 9.58, 'Uranus': 19.22, 'Neptune': 30.05}\n"
     ]
    }
   ],
   "source": [
    "# A dictionary that contains some data about the planets in our solar system\n",
    "planet_data = {\n",
    "    \"Mercury\": 0.39, \n",
    "    \"Venus\": 0.72,\n",
    "    \"Earth\": 1.00,  # distance from the Sun in AU\n",
    "    \"Mars\": 1.52,\n",
    "    \"Jupiter\": 5.20,\n",
    "    \"Saturn\": 9.58,\n",
    "    \"Uranus\": 19.22,\n",
    "    \"Neptune\": 30.05\n",
    "}\n",
    "\n",
    "# Print the dictionary\n",
    "print(planet_data)"
   ]
  },
  {
   "cell_type": "code",
   "execution_count": 10,
   "id": "089158c4-c8d9-4007-85a2-326cb2c56639",
   "metadata": {},
   "outputs": [
    {
     "name": "stdout",
     "output_type": "stream",
     "text": [
      "Mercury: 0.39 AU\n",
      "Venus: 0.72 AU\n",
      "Earth: 1.0 AU\n",
      "Mars: 1.52 AU\n",
      "Jupiter: 5.2 AU\n",
      "Saturn: 9.58 AU\n",
      "Uranus: 19.22 AU\n",
      "Neptune: 30.05 AU\n"
     ]
    }
   ],
   "source": [
    "def print_planet_distances(planet_data):\n",
    "    \"\"\"\n",
    "    Function that takes in a dictionary of planets and their distances from the sun\n",
    "    and prints each planet's name and its corresponding distance.\n",
    "    \"\"\"\n",
    "    for planet, distance in planet_data.items():\n",
    "        print(f\"{planet}: {distance} AU\")\n",
    "\n",
    "# Example dictionary with planet data\n",
    "planet_data = {\n",
    "    \"Mercury\": 0.39, \n",
    "    \"Venus\": 0.72,\n",
    "    \"Earth\": 1.00,\n",
    "    \"Mars\": 1.52,\n",
    "    \"Jupiter\": 5.20,\n",
    "    \"Saturn\": 9.58,\n",
    "    \"Uranus\": 19.22,\n",
    "    \"Neptune\": 30.05\n",
    "}\n",
    "\n",
    "# Calling the function\n",
    "print_planet_distances(planet_data)"
   ]
  },
  {
   "cell_type": "code",
   "execution_count": 12,
   "id": "460ead50-0d33-4eff-8b1b-0aa83de9e055",
   "metadata": {},
   "outputs": [
    {
     "name": "stdout",
     "output_type": "stream",
     "text": [
      "Jupiter: 5.2 AU\n",
      "Saturn: 9.58 AU\n",
      "Uranus: 19.22 AU\n",
      "Neptune: 30.05 AU\n"
     ]
    }
   ],
   "source": [
    "def print_distant_planets(planet_data):\n",
    "    \"\"\"\n",
    "    Function that takes in a dictionary of planets and their distances from the sun,\n",
    "    and prints the names of planets that are at least 5 AU away from the Sun.\n",
    "    \"\"\"\n",
    "    # Extract planet names and distances as lists for indexed access in the while loop\n",
    "    planets = list(planet_data.keys())\n",
    "    distances = list(planet_data.values())\n",
    "    \n",
    "    index = 0  # Initialize index for the while loop\n",
    "    while index < len(planets):\n",
    "        if distances[index] >= 5:  # Check if the distance is at least 5 AU\n",
    "            print(f\"{planets[index]}: {distances[index]} AU\")\n",
    "        index += 1  # Move to the next planet\n",
    "\n",
    "# Example dictionary with planet data\n",
    "planet_data = {\n",
    "    \"Mercury\": 0.39, \n",
    "    \"Venus\": 0.72,\n",
    "    \"Earth\": 1.00,\n",
    "    \"Mars\": 1.52,\n",
    "    \"Jupiter\": 5.20,\n",
    "    \"Saturn\": 9.58,\n",
    "    \"Uranus\": 19.22,\n",
    "    \"Neptune\": 30.05\n",
    "}\n",
    "\n",
    "# Calling the function\n",
    "print_distant_planets(planet_data)"
   ]
  },
  {
   "cell_type": "code",
   "execution_count": 1,
   "id": "147683eb-90ff-4b43-befb-9f16aa3c11ec",
   "metadata": {},
   "outputs": [
    {
     "name": "stdout",
     "output_type": "stream",
     "text": [
      "Total brightness of the stars: 8.037198248279665e-05\n",
      "Total observation time for all observable stars: 0\n",
      "Number of stars that can be observed within 500 seconds: 0\n"
     ]
    }
   ],
   "source": [
    "def star_observation(magnitudes, time_limit):\n",
    "    \"\"\"\n",
    "    Function that calculates the total brightness of a group of stars and estimates\n",
    "    how long it would take to observe each star based on their magnitude.\n",
    "    \"\"\"\n",
    "    # Convert magnitudes to brightness using the formula\n",
    "    brightness_values = [10 ** (-0.4 * mag) for mag in magnitudes]\n",
    "    total_brightness = sum(brightness_values)\n",
    "\n",
    "    # Calculate observation time (assuming it takes 2^(magnitude) seconds to observe a star)\n",
    "    observation_times = [2 ** mag for mag in magnitudes]\n",
    "    total_observation_time = 0\n",
    "    stars_observed = 0\n",
    "\n",
    "    # Count how many stars can be observed within the time limit\n",
    "    for time in observation_times:\n",
    "        if total_observation_time + time <= time_limit:\n",
    "            total_observation_time += time\n",
    "            stars_observed += 1\n",
    "        else:\n",
    "            break\n",
    "\n",
    "    return {\n",
    "        \"total_brightness\": total_brightness,\n",
    "        \"total_observation_time\": total_observation_time,\n",
    "        \"stars_observed\": stars_observed\n",
    "    }\n",
    "\n",
    "# Given list of magnitudes and time limit\n",
    "magnitudes = [12.5, 13.2, 14.8, 19.1, 21.0, 18.5, 15.3, 10.5, 23.0]\n",
    "time_limit = 500\n",
    "\n",
    "# Calling the function and printing results\n",
    "result = star_observation(magnitudes, time_limit)\n",
    "\n",
    "print(\"Total brightness of the stars:\", result[\"total_brightness\"])\n",
    "print(\"Total observation time for all observable stars:\", result[\"total_observation_time\"])\n",
    "print(\"Number of stars that can be observed within 500 seconds:\", result[\"stars_observed\"])\n"
   ]
  },
  {
   "cell_type": "code",
   "execution_count": 3,
   "id": "4ea0bce0-8941-4708-91d0-c708dbb57a5e",
   "metadata": {},
   "outputs": [
    {
     "name": "stdout",
     "output_type": "stream",
     "text": [
      "Total brightness of all the stars: 8.037198248279665e-05\n",
      "List of individual star brightnesses: [1e-05, 5.248074602497723e-06, 1.2022644346174106e-06, 2.29086765276777e-08, 3.981071705534969e-09, 3.981071705534969e-08, 7.585775750291821e-07, 6.309573444801929e-05, 6.309573444801917e-10]\n"
     ]
    }
   ],
   "source": [
    "def calculate_total_brightness(magnitudes):\n",
    "    \"\"\"\n",
    "    Function that takes a list of star magnitudes and calculates:\n",
    "    - The brightness of each star using the formula: 10^(-0.4 * magnitude)\n",
    "    - The total brightness of all the stars combined\n",
    "    Returns the total brightness and a list of individual star brightnesses.\n",
    "    \"\"\"\n",
    "    brightness_values = []\n",
    "\n",
    "    # Calculate the brightness of each star and add it to the list\n",
    "    for mag in magnitudes:\n",
    "        brightness = 10 ** (-0.4 * mag)\n",
    "        brightness_values.append(brightness)\n",
    "\n",
    "    # Calculate the total brightness by summing up the individual brightness values\n",
    "    total_brightness = sum(brightness_values)\n",
    "\n",
    "    return total_brightness, brightness_values\n",
    "\n",
    "# Test with the given magnitude values\n",
    "magnitudes = [12.5, 13.2, 14.8, 19.1, 21.0, 18.5, 15.3, 10.5, 23.0]\n",
    "total_brightness, brightness_list = calculate_total_brightness(magnitudes)\n",
    "\n",
    "# Print the results\n",
    "print(\"Total brightness of all the stars:\", total_brightness)\n",
    "print(\"List of individual star brightnesses:\", brightness_list)"
   ]
  },
  {
   "cell_type": "code",
   "execution_count": 5,
   "id": "078d9b3f-f334-484b-8e26-2ec7d3d31008",
   "metadata": {},
   "outputs": [
    {
     "name": "stdout",
     "output_type": "stream",
     "text": [
      "Total observation time (ignoring >20 magnitudes): 71226863.0524925\n",
      "List of individual observation times: [99999.99999999999, 190546.07179632483, 831763.7711026726, 43651583.22401666, 25118864.315095823, 1318256.73855641, 15848.931924611143]\n"
     ]
    }
   ],
   "source": [
    "def calculate_observation_time(magnitudes):\n",
    "    \"\"\"\n",
    "    Function that takes a list of star magnitudes and calculates:\n",
    "    - The observation time for each star using the formula: time = 1 / brightness\n",
    "    - Ignores stars with magnitudes greater than 20\n",
    "    Returns the total observation time and a list of observation times for individual stars.\n",
    "    \"\"\"\n",
    "    observation_times = []\n",
    "\n",
    "    # Calculate the observation time for each star and ignore those with magnitude > 20\n",
    "    for mag in magnitudes:\n",
    "        if mag <= 20:\n",
    "            brightness = 10 ** (-0.4 * mag)\n",
    "            observation_time = 1 / brightness\n",
    "            observation_times.append(observation_time)\n",
    "\n",
    "    # Calculate the total observation time by summing up the times\n",
    "    total_observation_time = sum(observation_times)\n",
    "\n",
    "    return total_observation_time, observation_times\n",
    "\n",
    "# Test with the given magnitude values\n",
    "magnitudes = [12.5, 13.2, 14.8, 19.1, 21.0, 18.5, 15.3, 10.5, 23.0]\n",
    "total_observation_time, observation_time_list = calculate_observation_time(magnitudes)\n",
    "\n",
    "# Print the results\n",
    "print(\"Total observation time (ignoring >20 magnitudes):\", total_observation_time)\n",
    "print(\"List of individual observation times:\", observation_time_list)"
   ]
  },
  {
   "cell_type": "code",
   "execution_count": 7,
   "id": "e4997fca-8242-48bb-8731-0be671068003",
   "metadata": {},
   "outputs": [
    {
     "name": "stdout",
     "output_type": "stream",
     "text": [
      "Number of stars observed within the time limit: 0\n",
      "Total observation time: 0\n"
     ]
    }
   ],
   "source": [
    "def observe_stars_within_limit(magnitudes, time_limit=500):\n",
    "    \"\"\"\n",
    "    Function that calculates the number of stars that can be observed within a time limit.\n",
    "    - Inputs a list of star magnitudes and a time limit (default set to 500 seconds).\n",
    "    - Skips stars with a magnitude of 20 or greater.\n",
    "    - Returns the number of stars that can be observed and the total observation time.\n",
    "    \"\"\"\n",
    "    total_time = 0\n",
    "    stars_observed = 0\n",
    "\n",
    "    # Loop through magnitudes while total time is within the time limit\n",
    "    for mag in magnitudes:\n",
    "        if mag < 20:\n",
    "            brightness = 10 ** (-0.4 * mag)\n",
    "            observation_time = 1 / brightness\n",
    "\n",
    "            # Check if adding the next star's observation time exceeds the limit\n",
    "            if total_time + observation_time <= time_limit:\n",
    "                total_time += observation_time\n",
    "                stars_observed += 1\n",
    "            else:\n",
    "                break\n",
    "\n",
    "    return stars_observed, total_time\n",
    "\n",
    "# Test with the given magnitude values and time limit\n",
    "magnitudes = [12.5, 13.2, 14.8, 19.1, 21.0, 18.5, 15.3, 10.5, 23.0]\n",
    "stars_observed, total_observation_time = observe_stars_within_limit(magnitudes)\n",
    "\n",
    "# Print the results\n",
    "print(\"Number of stars observed within the time limit:\", stars_observed)\n",
    "print(\"Total observation time:\", total_observation_time)"
   ]
  },
  {
   "cell_type": "code",
   "execution_count": 9,
   "id": "87ca8e40-f41c-4e6c-b11f-044fdcee4ba7",
   "metadata": {},
   "outputs": [
    {
     "name": "stdout",
     "output_type": "stream",
     "text": [
      "Total Brightness and Brightness List: 0.00016565336982005604 [2.511886431509577e-05, 2.511886431509577e-06, 1.3182567385564074e-07, 2.754228703338169e-08, 6.309573444801917e-09, 5.754399373371567e-06, 0.00013182567385564074, 2.754228703338169e-07, 1.445439770745922e-09]\n",
      "Total Observation Time and Observation Times List: 48143645.52123702 [39810.71705534977, 398107.17055349774, 7585775.7502918355, 36307805.4770101, 173780.08287493762, 7585.775750291836, 3630780.54770101]\n",
      "Stars Observed and Total Time Within Limit: 0 0\n"
     ]
    }
   ],
   "source": [
    "# New test case with different magnitudes and a time limit\n",
    "new_magnitudes = [11.5, 14.0, 17.2, 18.9, 20.5, 13.1, 9.7, 16.4, 22.1]\n",
    "new_time_limit = 600\n",
    "\n",
    "# 3.1: Call the function to calculate total brightness\n",
    "total_brightness, brightness_list = calculate_total_brightness(new_magnitudes)\n",
    "print(\"Total Brightness and Brightness List:\", total_brightness, brightness_list)\n",
    "\n",
    "# 3.2: Call the function to calculate observation time (ignoring magnitudes > 20)\n",
    "total_observation_time, observation_time_list = calculate_observation_time(new_magnitudes)\n",
    "print(\"Total Observation Time and Observation Times List:\", total_observation_time, observation_time_list)\n",
    "\n",
    "# 3.3: Call the function to calculate the number of observable stars within the time limit\n",
    "stars_observed, total_time_within_limit = observe_stars_within_limit(new_magnitudes, new_time_limit)\n",
    "print(\"Stars Observed and Total Time Within Limit:\", stars_observed, total_time_within_limit)"
   ]
  },
  {
   "cell_type": "code",
   "execution_count": 11,
   "id": "b1da1d49-fa74-4bb3-9ca8-95b327b02fcd",
   "metadata": {},
   "outputs": [
    {
     "name": "stdout",
     "output_type": "stream",
     "text": [
      "Test case (2, -5, 3): (1.5, 1.0)\n",
      "Test case (1, -6, 9): (3.0, 3.0)\n"
     ]
    }
   ],
   "source": [
    "def quadratic_solver(a, b, c):\n",
    "    \"\"\"\n",
    "    Function to solve the quadratic equation ax^2 + bx + c = 0.\n",
    "    Returns the two roots of the equation.\n",
    "    \"\"\"\n",
    "    # Check if 'a' is zero to avoid division by zero\n",
    "    if a == 0:\n",
    "        return \"Coefficient 'a' cannot be zero for a quadratic equation.\"\n",
    "    \n",
    "    # Calculate the discriminant\n",
    "    discriminant = b ** 2 - 4 * a * c\n",
    "    \n",
    "    # Check if the discriminant is negative (no real roots)\n",
    "    if discriminant < 0:\n",
    "        return \"No real roots\"\n",
    "    \n",
    "    # Calculate the roots\n",
    "    pos_answer = (-b + discriminant ** 0.5) / (2 * a)\n",
    "    neg_answer = (-b - discriminant ** 0.5) / (2 * a)\n",
    "    \n",
    "    return pos_answer, neg_answer\n",
    "\n",
    "# Test case: a = 2, b = -5, c = 3\n",
    "print(\"Test case (2, -5, 3):\", quadratic_solver(2, -5, 3))\n",
    "\n",
    "# Try out another test case\n",
    "print(\"Test case (1, -6, 9):\", quadratic_solver(1, -6, 9))"
   ]
  },
  {
   "cell_type": "code",
   "execution_count": null,
   "id": "1e9b218e-74c4-4146-b170-fc94e372b280",
   "metadata": {},
   "outputs": [],
   "source": []
  }
 ],
 "metadata": {
  "kernelspec": {
   "display_name": "Python 3 (ipykernel)",
   "language": "python",
   "name": "python3"
  },
  "language_info": {
   "codemirror_mode": {
    "name": "ipython",
    "version": 3
   },
   "file_extension": ".py",
   "mimetype": "text/x-python",
   "name": "python",
   "nbconvert_exporter": "python",
   "pygments_lexer": "ipython3",
   "version": "3.11.7"
  }
 },
 "nbformat": 4,
 "nbformat_minor": 5
}
