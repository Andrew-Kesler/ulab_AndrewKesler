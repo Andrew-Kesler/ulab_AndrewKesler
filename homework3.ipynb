{
 "cells": [
  {
   "cell_type": "code",
   "execution_count": 2,
   "id": "f9b57aa5-588e-41a0-9814-b690cdbb5953",
   "metadata": {},
   "outputs": [
    {
     "data": {
      "text/plain": [
       "'Python is awesome!'"
      ]
     },
     "execution_count": 2,
     "metadata": {},
     "output_type": "execute_result"
    }
   ],
   "source": [
    "(\"Python is awesome!\")"
   ]
  },
  {
   "cell_type": "code",
   "execution_count": 3,
   "id": "b84dbaa4-2f56-4e59-944b-63ab1ffaad7e",
   "metadata": {},
   "outputs": [
    {
     "data": {
      "text/plain": [
       "('The age is:', 24)"
      ]
     },
     "execution_count": 3,
     "metadata": {},
     "output_type": "execute_result"
    }
   ],
   "source": [
    "(\"The age is:\",24)"
   ]
  },
  {
   "cell_type": "code",
   "execution_count": 4,
   "id": "95a50639-5409-4106-b72d-4d7cad609d0f",
   "metadata": {},
   "outputs": [],
   "source": [
    "year = 2024"
   ]
  },
  {
   "cell_type": "code",
   "execution_count": 5,
   "id": "be805c95-a48a-4d9e-b8f8-3c78bd1f8392",
   "metadata": {},
   "outputs": [
    {
     "name": "stdout",
     "output_type": "stream",
     "text": [
      "The current year is 2024\n"
     ]
    }
   ],
   "source": [
    "print(\"The current year is\", 2024)"
   ]
  },
  {
   "cell_type": "raw",
   "id": "92f748c4-51a6-400c-9d7b-5d752b3ffc05",
   "metadata": {},
   "source": [
    "print(\"The type of the year variable is:\" , type(2024))"
   ]
  },
  {
   "cell_type": "code",
   "execution_count": 6,
   "id": "d6568004-3049-4e73-a9dc-ecf5c30f6352",
   "metadata": {},
   "outputs": [],
   "source": [
    "temperature = 98.6"
   ]
  },
  {
   "cell_type": "code",
   "execution_count": 7,
   "id": "2160f829-5895-43d8-b046-7157e5a9d6cd",
   "metadata": {},
   "outputs": [
    {
     "name": "stdout",
     "output_type": "stream",
     "text": [
      "98.6\n"
     ]
    }
   ],
   "source": [
    "print(temperature)"
   ]
  },
  {
   "cell_type": "code",
   "execution_count": 8,
   "id": "74f6c4fa-a0e4-459b-a7d3-41503cd20301",
   "metadata": {},
   "outputs": [
    {
     "name": "stdout",
     "output_type": "stream",
     "text": [
      "<class 'float'>\n"
     ]
    }
   ],
   "source": [
    "print(type(temperature))"
   ]
  },
  {
   "cell_type": "code",
   "execution_count": 9,
   "id": "ff11401e-bdd4-4924-a538-426d44d9e809",
   "metadata": {},
   "outputs": [],
   "source": [
    "name = \"Andrew\""
   ]
  },
  {
   "cell_type": "code",
   "execution_count": 10,
   "id": "d0a4a64d-98ea-4200-9a95-da506310cfa4",
   "metadata": {},
   "outputs": [
    {
     "name": "stdout",
     "output_type": "stream",
     "text": [
      "Andrew\n"
     ]
    }
   ],
   "source": [
    "print(name)"
   ]
  },
  {
   "cell_type": "code",
   "execution_count": 11,
   "id": "c73d9a93-6917-4d20-b21d-bb7e3f4ccdee",
   "metadata": {},
   "outputs": [
    {
     "name": "stdout",
     "output_type": "stream",
     "text": [
      "<class 'str'>\n"
     ]
    }
   ],
   "source": [
    "print(type(name))"
   ]
  },
  {
   "cell_type": "code",
   "execution_count": 12,
   "id": "f130f4fc-fe2a-4b3a-b5fc-58ab4fd7601d",
   "metadata": {},
   "outputs": [],
   "source": [
    "weekend = False"
   ]
  },
  {
   "cell_type": "code",
   "execution_count": 13,
   "id": "5bf47a9b-61f3-49d5-b0b2-c49ba9757b22",
   "metadata": {},
   "outputs": [
    {
     "name": "stdout",
     "output_type": "stream",
     "text": [
      "<class 'bool'>\n"
     ]
    }
   ],
   "source": [
    "print(type(weekend))"
   ]
  },
  {
   "cell_type": "code",
   "execution_count": 14,
   "id": "c5bd14ab-0b9d-49d0-b031-8bc0d44b3a8d",
   "metadata": {},
   "outputs": [],
   "source": [
    "favorite_colors = [\"red\",\"blue\",\"green\"]"
   ]
  },
  {
   "cell_type": "code",
   "execution_count": 15,
   "id": "a9576984-d5fe-48ce-a6c4-ff0fdf26a1e2",
   "metadata": {},
   "outputs": [
    {
     "name": "stdout",
     "output_type": "stream",
     "text": [
      "<class 'list'>\n"
     ]
    }
   ],
   "source": [
    "print(type(favorite_colors))"
   ]
  },
  {
   "cell_type": "code",
   "execution_count": 16,
   "id": "8e9e1f33-2a06-4897-a4d9-0d4cd43bd666",
   "metadata": {},
   "outputs": [
    {
     "name": "stdout",
     "output_type": "stream",
     "text": [
      "12\n"
     ]
    }
   ],
   "source": [
    "answer = 2 + 2 * 5\n",
    "print(answer)"
   ]
  },
  {
   "cell_type": "code",
   "execution_count": 17,
   "id": "bbc2e869-297c-4980-b90a-f2985e35b54e",
   "metadata": {},
   "outputs": [
    {
     "name": "stdout",
     "output_type": "stream",
     "text": [
      "10\n"
     ]
    }
   ],
   "source": [
    "num1 = 4\n",
    "num2 = 6\n",
    "print(num1 + num2)"
   ]
  },
  {
   "cell_type": "code",
   "execution_count": 18,
   "id": "22a29d9b-36af-4a19-b593-c406a9a359a8",
   "metadata": {},
   "outputs": [],
   "source": [
    "radius = 5"
   ]
  },
  {
   "cell_type": "code",
   "execution_count": 19,
   "id": "8e9c771d-20b1-4df5-9f96-b3fe228feac3",
   "metadata": {},
   "outputs": [
    {
     "name": "stdout",
     "output_type": "stream",
     "text": [
      "5\n"
     ]
    }
   ],
   "source": [
    "print(radius)"
   ]
  },
  {
   "cell_type": "code",
   "execution_count": 20,
   "id": "b5702bb5-9cbe-4a5f-ac79-58907b7fa4df",
   "metadata": {},
   "outputs": [],
   "source": [
    "area = 3.14159 * radius ** 2  "
   ]
  },
  {
   "cell_type": "code",
   "execution_count": 21,
   "id": "7d5e91fb-7349-4fd5-ac10-633e0981bfa9",
   "metadata": {},
   "outputs": [
    {
     "name": "stdout",
     "output_type": "stream",
     "text": [
      "The area of the circle is: 78.53975\n"
     ]
    }
   ],
   "source": [
    "print(\"The area of the circle is:\", area)"
   ]
  },
  {
   "cell_type": "code",
   "execution_count": 22,
   "id": "1a8f5502-74ec-432e-99d7-db4b7c67e4af",
   "metadata": {},
   "outputs": [
    {
     "ename": "SyntaxError",
     "evalue": "unterminated string literal (detected at line 1) (3283011879.py, line 1)",
     "output_type": "error",
     "traceback": [
      "\u001b[1;36m  Cell \u001b[1;32mIn[22], line 1\u001b[1;36m\u001b[0m\n\u001b[1;33m    print(\"Something is wrong)\u001b[0m\n\u001b[1;37m          ^\u001b[0m\n\u001b[1;31mSyntaxError\u001b[0m\u001b[1;31m:\u001b[0m unterminated string literal (detected at line 1)\n"
     ]
    }
   ],
   "source": [
    "print(\"Something is wrong)"
   ]
  },
  {
   "cell_type": "code",
   "execution_count": null,
   "id": "e5cda853-967c-49b1-b7d0-4a25898c98d8",
   "metadata": {},
   "outputs": [],
   "source": [
    "print(\"Something is wrong\")\n"
   ]
  },
  {
   "cell_type": "code",
   "execution_count": null,
   "id": "3f939b5b-f99c-4cf2-b459-e4a3c757f17e",
   "metadata": {},
   "outputs": [],
   "source": []
  }
 ],
 "metadata": {
  "kernelspec": {
   "display_name": "Python 3 (ipykernel)",
   "language": "python",
   "name": "python3"
  },
  "language_info": {
   "codemirror_mode": {
    "name": "ipython",
    "version": 3
   },
   "file_extension": ".py",
   "mimetype": "text/x-python",
   "name": "python",
   "nbconvert_exporter": "python",
   "pygments_lexer": "ipython3",
   "version": "3.11.7"
  }
 },
 "nbformat": 4,
 "nbformat_minor": 5
}
