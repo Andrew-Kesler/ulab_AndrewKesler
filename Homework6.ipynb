{
 "cells": [
  {
   "cell_type": "code",
   "execution_count": 2,
   "id": "670cb5eb-f0fb-4f83-bc41-33f8e31dfcf3",
   "metadata": {},
   "outputs": [
    {
     "name": "stdout",
     "output_type": "stream",
     "text": [
      "Test Case 1:\n",
      "First 5 elements: [1, 2, 3, 4, 5]\n",
      "Last 5 elements: [16, 17, 18, 19, 20]\n",
      "Every 2nd element: [1, 3, 5, 7, 9, 11, 14, 16, 18, 20]\n",
      "Reversed list: [20, 19, 18, 17, 16, 15, 14, 12, 11, 10, 9, 8, 7, 6, 5, 4, 3, 2, 1]\n",
      "\n",
      "Test Case 2:\n",
      "First 5 elements: [10, 20, 30, 40, 50]\n",
      "Last 5 elements: [60, 70, 80, 90, 100]\n",
      "Every 2nd element: [10, 30, 50, 70, 90]\n",
      "Reversed list: [100, 90, 80, 70, 60, 50, 40, 30, 20, 10]\n",
      "\n",
      "Test Case 3:\n",
      "First 5 elements: [5, 10, 15, 20, 25]\n",
      "Last 5 elements: [10, 15, 20, 25, 30]\n",
      "Every 2nd element: [5, 15, 25]\n",
      "Reversed list: [30, 25, 20, 15, 10, 5]\n"
     ]
    }
   ],
   "source": [
    "def slice_and_stride(lst):\n",
    "    \"\"\"\n",
    "    This function takes a list of integers and returns:\n",
    "    - The first 5 elements\n",
    "    - The last 5 elements\n",
    "    - Every 2nd element in the list\n",
    "    - The list in reverse order\n",
    "    \"\"\"\n",
    "    first_5 = lst[:5]           # First 5 elements\n",
    "    last_5 = lst[-5:]           # Last 5 elements\n",
    "    every_2nd = lst[::2]        # Every 2nd element\n",
    "    reversed_list = lst[::-1]   # List in reverse order\n",
    "    return first_5, last_5, every_2nd, reversed_list\n",
    "\n",
    "# Test case 1 (provided)\n",
    "lst = [1, 2, 3, 4, 5, 6, 7, 8, 9, 10, 11, 12, 14, 15, 16, 17, 18, 19, 20]\n",
    "result = slice_and_stride(lst)\n",
    "print(\"Test Case 1:\")\n",
    "print(\"First 5 elements:\", result[0])\n",
    "print(\"Last 5 elements:\", result[1])\n",
    "print(\"Every 2nd element:\", result[2])\n",
    "print(\"Reversed list:\", result[3])\n",
    "\n",
    "# Test case 2 (made-up)\n",
    "lst = [10, 20, 30, 40, 50, 60, 70, 80, 90, 100]\n",
    "result = slice_and_stride(lst)\n",
    "print(\"\\nTest Case 2:\")\n",
    "print(\"First 5 elements:\", result[0])\n",
    "print(\"Last 5 elements:\", result[1])\n",
    "print(\"Every 2nd element:\", result[2])\n",
    "print(\"Reversed list:\", result[3])\n",
    "\n",
    "# Test case 3 (made-up)\n",
    "lst = [5, 10, 15, 20, 25, 30]\n",
    "result = slice_and_stride(lst)\n",
    "print(\"\\nTest Case 3:\")\n",
    "print(\"First 5 elements:\", result[0])\n",
    "print(\"Last 5 elements:\", result[1])\n",
    "print(\"Every 2nd element:\", result[2])\n",
    "print(\"Reversed list:\", result[3])"
   ]
  },
  {
   "cell_type": "code",
   "execution_count": 4,
   "id": "348636de-976c-4120-b15b-9e23f87ed459",
   "metadata": {},
   "outputs": [
    {
     "name": "stdout",
     "output_type": "stream",
     "text": [
      "Test Case 1:\n",
      "Squares: [1, 4, 9, 16, 25, 36]\n",
      "Cubes of even numbers: [8, 64, 216]\n",
      "\n",
      "Test Case 2:\n",
      "Squares: [49, 64, 81, 100, 121, 144]\n",
      "Cubes of even numbers: [512, 1000, 1728]\n",
      "\n",
      "Test Case 3:\n",
      "Squares: [0, 1, 4, 9, 25]\n",
      "Cubes of even numbers: [0, -8]\n"
     ]
    }
   ],
   "source": [
    "def process_list(lst):\n",
    "    \"\"\"\n",
    "    This function takes a list of integers and:\n",
    "    - Returns the square of each number in the list\n",
    "    - Returns the cube of each even number in the list\n",
    "    \"\"\"\n",
    "    squares = [x ** 2 for x in lst]          # Square of each number\n",
    "    cubes_of_evens = [x ** 3 for x in lst if x % 2 == 0]  # Cube of each even number\n",
    "    return squares, cubes_of_evens\n",
    "\n",
    "# Test case 1 (provided)\n",
    "lst = [1, 2, 3, 4, 5, 6]\n",
    "result = process_list(lst)\n",
    "print(\"Test Case 1:\")\n",
    "print(\"Squares:\", result[0])\n",
    "print(\"Cubes of even numbers:\", result[1])\n",
    "\n",
    "# Test case 2 (made-up)\n",
    "lst = [7, 8, 9, 10, 11, 12]\n",
    "result = process_list(lst)\n",
    "print(\"\\nTest Case 2:\")\n",
    "print(\"Squares:\", result[0])\n",
    "print(\"Cubes of even numbers:\", result[1])\n",
    "\n",
    "# Test case 3 (made-up)\n",
    "lst = [0, -1, -2, 3, 5]\n",
    "result = process_list(lst)\n",
    "print(\"\\nTest Case 3:\")\n",
    "print(\"Squares:\", result[0])\n",
    "print(\"Cubes of even numbers:\", result[1])"
   ]
  },
  {
   "cell_type": "code",
   "execution_count": 6,
   "id": "e76100d8-0703-4798-a9d0-acbea9b91df0",
   "metadata": {},
   "outputs": [
    {
     "name": "stdout",
     "output_type": "stream",
     "text": [
      "{'Mercury': 0.39, 'Venus': 0.72, 'Earth': 1.0, 'Mars': 1.52, 'Jupiter': 5.2, 'Saturn': 9.58, 'Uranus': 19.22, 'Neptune': 30.05}\n"
     ]
    }
   ],
   "source": [
    "# A dictionary that contains some data about the planets in our solar system\n",
    "planet_data = {\n",
    "    \"Mercury\": 0.39, \n",
    "    \"Venus\": 0.72,\n",
    "    \"Earth\": 1.00, # distance from the Sun in AU\n",
    "    \"Mars\": 1.52,\n",
    "    \"Jupiter\": 5.20,\n",
    "    \"Saturn\": 9.58,\n",
    "    \"Uranus\": 19.22,\n",
    "    \"Neptune\": 30.05\n",
    "}   \n",
    "\n",
    "print(planet_data) # print the dictonary"
   ]
  },
  {
   "cell_type": "code",
   "execution_count": 8,
   "id": "17d178d8-5e4d-4985-9f4e-a1a4a9d531f7",
   "metadata": {},
   "outputs": [
    {
     "name": "stdout",
     "output_type": "stream",
     "text": [
      "Planet: Mercury, Distance from Sun: 57.91 million kilometers\n",
      "Planet: Venus, Distance from Sun: 108.2 million kilometers\n",
      "Planet: Earth, Distance from Sun: 149.6 million kilometers\n",
      "Planet: Mars, Distance from Sun: 227.9 million kilometers\n",
      "Planet: Jupiter, Distance from Sun: 778.5 million kilometers\n",
      "Planet: Saturn, Distance from Sun: 1434 million kilometers\n",
      "Planet: Uranus, Distance from Sun: 2871 million kilometers\n",
      "Planet: Neptune, Distance from Sun: 4495 million kilometers\n"
     ]
    }
   ],
   "source": [
    "def print_planet_distances(planet_data):\n",
    "    \"\"\"\n",
    "    This function takes a dictionary of planets and their distances from the sun\n",
    "    and prints the planet name and its distance in a formatted way.\n",
    "    \"\"\"\n",
    "    for planet, distance in planet_data.items():\n",
    "        print(f\"Planet: {planet}, Distance from Sun: {distance} million kilometers\")\n",
    "\n",
    "# Example dictionary\n",
    "planet_data = {\n",
    "    \"Mercury\": 57.91,\n",
    "    \"Venus\": 108.2,\n",
    "    \"Earth\": 149.6,\n",
    "    \"Mars\": 227.9,\n",
    "    \"Jupiter\": 778.5,\n",
    "    \"Saturn\": 1434,\n",
    "    \"Uranus\": 2871,\n",
    "    \"Neptune\": 4495\n",
    "}\n",
    "\n",
    "# Call the function with the dictionary\n",
    "print_planet_distances(planet_data)"
   ]
  },
  {
   "cell_type": "code",
   "execution_count": 10,
   "id": "683ce87f-075a-4abe-95bd-5d9705f27270",
   "metadata": {},
   "outputs": [
    {
     "name": "stdout",
     "output_type": "stream",
     "text": [
      "Planet: Jupiter, Distance: 778.5 million kilometers\n",
      "Planet: Saturn, Distance: 1434 million kilometers\n",
      "Planet: Uranus, Distance: 2871 million kilometers\n",
      "Planet: Neptune, Distance: 4495 million kilometers\n"
     ]
    }
   ],
   "source": [
    "def print_far_planets(planet_data):\n",
    "    \"\"\"\n",
    "    This function takes a dictionary of planets and their distances from the Sun\n",
    "    (in million kilometers) and uses a while loop to print planets that are at\n",
    "    least 5 AU away from the Sun.\n",
    "    1 AU = 149.6 million kilometers.\n",
    "    \"\"\"\n",
    "    # Convert 5 AU to million kilometers\n",
    "    min_distance = 5 * 149.6  # 748 million kilometers\n",
    "    \n",
    "    # Get the planet names and distances as a list of tuples\n",
    "    planets = list(planet_data.items())\n",
    "    \n",
    "    # Initialize index for while loop\n",
    "    i = 0\n",
    "    \n",
    "    while i < len(planets):\n",
    "        planet, distance = planets[i]\n",
    "        if distance >= min_distance:\n",
    "            print(f\"Planet: {planet}, Distance: {distance} million kilometers\")\n",
    "        i += 1\n",
    "\n",
    "# Example dictionary with distances in million kilometers\n",
    "planet_data = {\n",
    "    \"Mercury\": 57.91,\n",
    "    \"Venus\": 108.2,\n",
    "    \"Earth\": 149.6,\n",
    "    \"Mars\": 227.9,\n",
    "    \"Jupiter\": 778.5,\n",
    "    \"Saturn\": 1434,\n",
    "    \"Uranus\": 2871,\n",
    "    \"Neptune\": 4495\n",
    "}\n",
    "\n",
    "# Call the function\n",
    "print_far_planets(planet_data)"
   ]
  },
  {
   "cell_type": "code",
   "execution_count": 12,
   "id": "997a44c9-abd1-43e0-a703-d098739c84fa",
   "metadata": {},
   "outputs": [
    {
     "name": "stdout",
     "output_type": "stream",
     "text": [
      "Total brightness of all stars: 8.037198248279665e-05\n",
      "Individual brightness values: [1e-05, 5.248074602497723e-06, 1.2022644346174106e-06, 2.29086765276777e-08, 3.981071705534969e-09, 3.981071705534969e-08, 7.585775750291821e-07, 6.309573444801929e-05, 6.309573444801917e-10]\n"
     ]
    }
   ],
   "source": [
    "def calculate_brightness(magnitudes):\n",
    "    \"\"\"\n",
    "    This function calculates the brightness of each star given their magnitudes\n",
    "    and sums up the total brightness of all the stars.\n",
    "\n",
    "    Parameters:\n",
    "    magnitudes (list): A list of star magnitudes.\n",
    "\n",
    "    Returns:\n",
    "    total_brightness (float): The sum of the brightness of all stars.\n",
    "    brightness_list (list): A list of the calculated brightnesses of each star.\n",
    "    \"\"\"\n",
    "    brightness_list = []\n",
    "    total_brightness = 0\n",
    "\n",
    "    # Loop through magnitudes to calculate brightness\n",
    "    for magnitude in magnitudes:\n",
    "        brightness = 10 ** (-0.4 * magnitude)\n",
    "        brightness_list.append(brightness)\n",
    "        total_brightness += brightness\n",
    "\n",
    "    return total_brightness, brightness_list\n",
    "\n",
    "# Test data\n",
    "magnitudes = [12.5, 13.2, 14.8, 19.1, 21.0, 18.5, 15.3, 10.5, 23.0]\n",
    "\n",
    "# Call the function\n",
    "total_brightness, brightness_list = calculate_brightness(magnitudes)\n",
    "\n",
    "# Print results\n",
    "print(\"Total brightness of all stars:\", total_brightness)\n",
    "print(\"Individual brightness values:\", brightness_list)"
   ]
  },
  {
   "cell_type": "code",
   "execution_count": 14,
   "id": "efd1a7c2-4545-42c3-8a7c-c9eda7145811",
   "metadata": {},
   "outputs": [
    {
     "name": "stdout",
     "output_type": "stream",
     "text": [
      "Total observation time for all observable stars: 7122686305.24925\n",
      "Individual observation times: [10000000.0, 19054607.17963248, 83176377.11026725, 4365158322.401666, 2511886431.5095825, 131825673.855641, 1584893.1924611144]\n"
     ]
    }
   ],
   "source": [
    "def calculate_observation_time(magnitudes):\n",
    "    \"\"\"\n",
    "    This function calculates the observation time for each star based on its brightness\n",
    "    and sums up the total observation time for stars with magnitude ≤ 20.\n",
    "\n",
    "    Parameters:\n",
    "    magnitudes (list): A list of star magnitudes.\n",
    "\n",
    "    Returns:\n",
    "    total_time (float): The total observation time for stars with magnitude ≤ 20.\n",
    "    observation_times (list): A list of observation times for each star (ignoring magnitudes > 20).\n",
    "    \"\"\"\n",
    "    observation_times = []\n",
    "    total_time = 0\n",
    "\n",
    "    for magnitude in magnitudes:\n",
    "        if magnitude > 20:  # Ignore stars with magnitude > 20\n",
    "            continue\n",
    "        brightness = 10 ** (-0.4 * magnitude)  # Calculate brightness\n",
    "        observation_time = 100 / brightness    # Calculate observation time\n",
    "        observation_times.append(observation_time)\n",
    "        total_time += observation_time\n",
    "\n",
    "    return total_time, observation_times\n",
    "\n",
    "# Test data\n",
    "magnitudes = [12.5, 13.2, 14.8, 19.1, 21.0, 18.5, 15.3, 10.5, 23.0]\n",
    "\n",
    "# Call the function\n",
    "total_observation_time, observation_times = calculate_observation_time(magnitudes)\n",
    "\n",
    "# Print results\n",
    "print(\"Total observation time for all observable stars:\", total_observation_time)\n",
    "print(\"Individual observation times:\", observation_times)"
   ]
  },
  {
   "cell_type": "code",
   "execution_count": 16,
   "id": "6af6c48c-14b7-4c23-a7fa-f00f266c60fa",
   "metadata": {},
   "outputs": [
    {
     "name": "stdout",
     "output_type": "stream",
     "text": [
      "Number of stars that can be observed within the time limit: 0\n",
      "Total observation time for these stars: 0\n"
     ]
    }
   ],
   "source": [
    "def observe_stars(magnitudes, time_limit=500):\n",
    "    \"\"\"\n",
    "    This function calculates how many stars can be observed within a given time limit\n",
    "    and the total observation time (which must not exceed the time limit).\n",
    "\n",
    "    Parameters:\n",
    "    magnitudes (list): A list of star magnitudes.\n",
    "    time_limit (float): The maximum observation time allowed (default is 500 seconds).\n",
    "\n",
    "    Returns:\n",
    "    num_observed (int): The number of stars observed within the time limit.\n",
    "    total_observation_time (float): The total observation time for these stars (less than the time limit).\n",
    "    \"\"\"\n",
    "    total_time = 0\n",
    "    num_observed = 0\n",
    "\n",
    "    for magnitude in magnitudes:\n",
    "        if magnitude >= 20:  # Skip stars with magnitude ≥ 20\n",
    "            continue\n",
    "        \n",
    "        brightness = 10 ** (-0.4 * magnitude)  # Calculate brightness\n",
    "        observation_time = 100 / brightness    # Calculate observation time\n",
    "        \n",
    "        # Check if adding this star's time exceeds the time limit\n",
    "        if total_time + observation_time > time_limit:\n",
    "            break  # Stop observing when the limit is reached\n",
    "\n",
    "        # Update total time and count the star\n",
    "        total_time += observation_time\n",
    "        num_observed += 1\n",
    "\n",
    "    return num_observed, total_time\n",
    "\n",
    "# Test data\n",
    "magnitudes = [12.5, 13.2, 14.8, 19.1, 21.0, 18.5, 15.3, 10.5, 23.0]\n",
    "time_limit = 500\n",
    "\n",
    "# Call the function\n",
    "num_stars, total_observed_time = observe_stars(magnitudes, time_limit)\n",
    "\n",
    "# Print results\n",
    "print(\"Number of stars that can be observed within the time limit:\", num_stars)\n",
    "print(\"Total observation time for these stars:\", total_observed_time)"
   ]
  },
  {
   "cell_type": "code",
   "execution_count": 18,
   "id": "b8538be2-e623-46fd-9b4b-fc85a67ae303",
   "metadata": {},
   "outputs": [],
   "source": [
    "new_magnitudes = [10.0, 11.5, 15.0, 19.0, 21.5, 14.0, 17.5, 22.0]\n",
    "new_time_limit = 1000"
   ]
  },
  {
   "cell_type": "code",
   "execution_count": 20,
   "id": "2f87f14e-cceb-4bf7-8157-a1c24bb94192",
   "metadata": {},
   "outputs": [
    {
     "name": "stdout",
     "output_type": "stream",
     "text": [
      "Brightness Results:\n",
      "Total Brightness: 0.00012875996639054443\n",
      "Individual Brightnesses: [0.0001, 2.511886431509577e-05, 1e-06, 2.511886431509577e-08, 2.511886431509582e-09, 2.511886431509577e-06, 1e-07, 1.584893192461111e-09]\n",
      "\n",
      "Observation Time Results:\n",
      "Total Observation Time: 5125863494.295862\n",
      "Individual Observation Times: [1000000.0, 3981071.7055349774, 100000000.0, 3981071705.5349774, 39810717.055349775, 1000000000.0]\n",
      "\n",
      "Stars Observed Within Time Limit:\n",
      "Number of Stars Observed: 0\n",
      "Total Observation Time: 0\n"
     ]
    }
   ],
   "source": [
    "# 1. Calculate total brightness and individual brightness values\n",
    "brightness_result = calculate_brightness(new_magnitudes)\n",
    "print(\"Brightness Results:\")\n",
    "print(\"Total Brightness:\", brightness_result[0])\n",
    "print(\"Individual Brightnesses:\", brightness_result[1])\n",
    "\n",
    "# 2. Calculate total observation time and times for each star (ignoring stars with magnitude >= 20)\n",
    "observation_time_result = calculate_observation_time(new_magnitudes)\n",
    "print(\"\\nObservation Time Results:\")\n",
    "print(\"Total Observation Time:\", observation_time_result[0])\n",
    "print(\"Individual Observation Times:\", observation_time_result[1])\n",
    "\n",
    "# 3. Determine the number of stars observed within the time limit and the total observation time\n",
    "observe_stars_result = observe_stars(new_magnitudes, new_time_limit)\n",
    "print(\"\\nStars Observed Within Time Limit:\")\n",
    "print(\"Number of Stars Observed:\", observe_stars_result[0])\n",
    "print(\"Total Observation Time:\", observe_stars_result[1])"
   ]
  },
  {
   "cell_type": "code",
   "execution_count": 22,
   "id": "72cff764-d6e3-4b39-a004-ea55e92a2a63",
   "metadata": {},
   "outputs": [
    {
     "name": "stdout",
     "output_type": "stream",
     "text": [
      "Roots for a = 2, b = -5, c = 3: (1.5, 1.0)\n",
      "Roots for a = 1, b = -3, c = 2: (2.0, 1.0)\n"
     ]
    }
   ],
   "source": [
    "def quadratic_formula(a, b, c):\n",
    "    \"\"\"\n",
    "    This function calculates the two roots of a quadratic equation ax^2 + bx + c = 0.\n",
    "    Parameters:\n",
    "        a (float): Coefficient of x^2\n",
    "        b (float): Coefficient of x\n",
    "        c (float): Constant term\n",
    "    Returns:\n",
    "        tuple: A tuple containing the two roots (positive and negative solutions).\n",
    "    \"\"\"\n",
    "    # Check for valid denominator\n",
    "    if a == 0:\n",
    "        raise ValueError(\"Coefficient 'a' cannot be zero in a quadratic equation.\")\n",
    "\n",
    "    # Calculate the discriminant\n",
    "    discriminant = b**2 - 4 * a * c\n",
    "    if discriminant < 0:\n",
    "        raise ValueError(\"No real roots exist; the discriminant is negative.\")\n",
    "\n",
    "    # Calculate the roots\n",
    "    bottom = 2 * a\n",
    "    root1 = (-b + discriminant**0.5) / bottom\n",
    "    root2 = (-b - discriminant**0.5) / bottom\n",
    "\n",
    "    return root1, root2\n",
    "\n",
    "# Test case 1: Provided test case\n",
    "a, b, c = 2, -5, 3\n",
    "roots = quadratic_formula(a, b, c)\n",
    "print(\"Roots for a = 2, b = -5, c = 3:\", roots)  # Expected: (1.5, 1.0)\n",
    "\n",
    "# Test case 2: Custom test case\n",
    "a, b, c = 1, -3, 2\n",
    "roots = quadratic_formula(a, b, c)\n",
    "print(\"Roots for a = 1, b = -3, c = 2:\", roots)  # Expected: (2.0, 1.0)"
   ]
  }
 ],
 "metadata": {
  "kernelspec": {
   "display_name": "Python 3 (ipykernel)",
   "language": "python",
   "name": "python3"
  },
  "language_info": {
   "codemirror_mode": {
    "name": "ipython",
    "version": 3
   },
   "file_extension": ".py",
   "mimetype": "text/x-python",
   "name": "python",
   "nbconvert_exporter": "python",
   "pygments_lexer": "ipython3",
   "version": "3.11.7"
  }
 },
 "nbformat": 4,
 "nbformat_minor": 5
}
